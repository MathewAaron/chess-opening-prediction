{
  "cells": [
    {
      "cell_type": "code",
      "execution_count": null,
      "metadata": {
        "id": "Ps1Q18yG9MuB"
      },
      "outputs": [],
      "source": [
        "import os\n",
        "os.environ['CUDA_LAUNCH_BLOCKING'] = \"1\""
      ]
    },
    {
      "cell_type": "markdown",
      "metadata": {
        "id": "XaYuhxcA9MuC"
      },
      "source": [
        "<font color = steel size = 5>Load the data, there should be string lists of data, opening label and win-lose label</font>"
      ]
    },
    {
      "cell_type": "code",
      "execution_count": null,
      "metadata": {
        "id": "RoZV6Hee9MuD"
      },
      "outputs": [],
      "source": [
        "def read_data(file_name):\n",
        "    \n",
        "    chess_openings = []\n",
        "    chess_moves = []\n",
        "    chess_result =[]\n",
        "    \n",
        "    with open(file_name,'r') as f:\n",
        "        \n",
        "        lines = f.readlines()\n",
        "    \n",
        "        lines = [s.strip() for s in lines]\n",
        "        \n",
        "    num_lines = len(lines)\n",
        "\n",
        "    i = 0\n",
        "    \n",
        "    while i < num_lines:\n",
        "        \n",
        "        current_line_opening = lines[i]\n",
        "        \n",
        "        if 'Result' in current_line_opening :\n",
        "            chess_result.append(current_line_opening[9:-2])\n",
        "\n",
        "        if 'Opening' in current_line_opening :\n",
        "            chess_openings.append(current_line_opening)\n",
        "        \n",
        "        if \"1. \" in current_line_opening :\n",
        "            if current_line_opening.find(\" 6.\")!= -1 :\n",
        "                chess_moves.append(current_line_opening[0:current_line_opening.find(\" 6.\")])\n",
        "            else:\n",
        "                index_0 = current_line_opening.find(\"0-\")\n",
        "                index_1 = current_line_opening.find(\"1/2-\")\n",
        "                index_2 = current_line_opening.find(\"1-\")\n",
        "                if index_0 != -1:\n",
        "                    chess_moves.append(current_line_opening[0:index_0 -1])\n",
        "                elif index_1 != -1:\n",
        "                    chess_moves.append(current_line_opening[0:index_1 -1])\n",
        "                elif index_2 != -1:\n",
        "                    chess_moves.append(current_line_opening[0:index_2 -1])\n",
        "                else:\n",
        "                    chess_moves.append(current_line_opening)\n",
        "            \n",
        "        i += 1\n",
        "    \n",
        "    return chess_openings,chess_moves,chess_result"
      ]
    },
    {
      "cell_type": "code",
      "execution_count": null,
      "metadata": {
        "id": "e9QVMUgJ9MuD"
      },
      "outputs": [],
      "source": [
        "file_name = 'chess_moves_data.txt'\n",
        "r,data,win_lose = read_data(file_name)"
      ]
    },
    {
      "cell_type": "code",
      "execution_count": null,
      "metadata": {
        "id": "jQz7S3UV9MuE",
        "outputId": "23bc8ac8-99f7-439f-e4c5-523897961e24"
      },
      "outputs": [
        {
          "name": "stdout",
          "output_type": "stream",
          "text": [
            "1-0\n"
          ]
        }
      ],
      "source": [
        "print(win_lose[0])"
      ]
    },
    {
      "cell_type": "code",
      "execution_count": null,
      "metadata": {
        "id": "p5wI6T8J9MuE"
      },
      "outputs": [],
      "source": [
        "opening = []\n",
        "#For openings\n",
        "for i in range(0,len(r)):\n",
        "    o = r[i][10:-2]\n",
        "    arr =  o.split(\" \")\n",
        "    p_o = '' \n",
        "    for item in arr:\n",
        "    # r[i] = arr[0]+ arr[1]\n",
        "        if(len(p_o)!=0):\n",
        "            p_o +=' '\n",
        "        if(item.find(\":\")!= -1):\n",
        "            p_o +=item[:item.find(\":\")]\n",
        "            break\n",
        "        else:\n",
        "            p_o +=item\n",
        "    # print(p_o)\n",
        "    opening.append(p_o)"
      ]
    },
    {
      "cell_type": "code",
      "execution_count": null,
      "metadata": {
        "id": "8mFqZlCT9MuE"
      },
      "outputs": [],
      "source": [
        "for i in range(0,len(opening)):\n",
        "    s = opening[i]\n",
        "    if s.find(\" #\") != -1:\n",
        "        opening[i] = s[0:s.find(\" #\")]\n",
        "    if s.find(\",\") != -1:\n",
        "        opening[i] = s.split(\",\")[0]"
      ]
    },
    {
      "cell_type": "code",
      "execution_count": null,
      "metadata": {
        "id": "_FemilJ89MuE",
        "outputId": "63451b96-9051-46e6-c781-fdb7d90162cf"
      },
      "outputs": [
        {
          "name": "stdout",
          "output_type": "stream",
          "text": [
            "121332\n",
            "58814\n",
            "58814\n",
            "58814\n"
          ]
        }
      ],
      "source": [
        "classes = ['Sicilian Defense',\"Queen's Pawn Game\",'French Defense',\"King's Pawn Game\",'Scandinavian Defense','Philidor Defense',\"Van't Kruijs Opening\",'English Opening','Italian Game','Ruy Lopez']\n",
        "\n",
        "idxes = [i for i in range(len(opening)) if  opening[i] in classes]\n",
        "\n",
        "test_openings = [opening[i] for i in idxes]\n",
        "test_win_lose = [win_lose[i] for i in idxes]\n",
        "test_data = [data[i] for i in idxes]\n",
        "\n",
        "print(len(data))\n",
        "print(len(test_data))\n",
        "print(len(test_win_lose))\n",
        "print(len(test_openings))\n"
      ]
    },
    {
      "cell_type": "code",
      "execution_count": null,
      "metadata": {
        "id": "P7g-dOnb9MuF",
        "outputId": "0d4899a0-e96c-4f82-e893-0792332527dc"
      },
      "outputs": [
        {
          "name": "stdout",
          "output_type": "stream",
          "text": [
            "Counter({'Sicilian Defense': 11803, \"Queen's Pawn Game\": 8427, 'French Defense': 8160, \"King's Pawn Game\": 5274, 'Scandinavian Defense': 5207, 'Philidor Defense': 4625, \"Van't Kruijs Opening\": 3995, 'English Opening': 3942, 'Italian Game': 3923, 'Ruy Lopez': 3458})\n",
            "\n",
            "\n",
            "Counter({'1-0': 29431, '0-1': 27446, '1/2-1/2': 1937})\n",
            "\n",
            "\n",
            "['1. e4 e6 2. d4 b6 3. a3 Bb7 4. Nc3 Nh6 5. Bxh6 gxh6', '1. d4 d5 2. Nf3 Nf6 3. e3 Bf5 4. Nh4 Bg6 5. Nxg6 hxg6', '1. e4 e6 2. f4 d5 3. e5 c5 4. Nf3 Qb6 5. c3 Nc6', '1. e4 e5 2. Nf3 Nc6 3. Bc4 Nf6 4. d3 Bc5 5. c3 O-O', '1. e4 e5 2. c4 Bc5 3. Nf3 d6 4. d3 a6 5. a3 Bg4', '1. e4 e6 2. d4 d5 3. Nc3 Nf6 4. Bg5 Be7 5. Bxf6 Bxf6', '1. e4 e5 2. Nf3 Nc6 3. Bb5 Nge7 4. Nc3 h6 5. Nd5 a6', '1. e4 c5 2. f4 d5 3. exd5 Qxd5 4. Nc3 Qd8 5. Bc4 Bf5', '1. e4 e6 2. d4 d5 3. e5 c5 4. c3 Ne7 5. f4 cxd4', '1. e4 e6 2. d4 b6 3. d5 Bb4+ 4. c3 Bc5 5. b4 Bd6', '1. e4 d5 2. exd5 Qxd5 3. Nc3 Qe5+ 4. Be2 Bg4 5. d4 Qe6', '1. e4 d5 2. exd5 Qxd5 3. Nc3 Qe6+ 4. Qe2 Nf6 5. Nf3 b6', '1. e4 e5 2. Nf3 Qf6 3. d4 d6 4. d5 Bd7 5. Nc3 a6', '1. c4 Nf6 2. Nf3 e6 3. e3 c5 4. Nc3 Nc6 5. Be2 b6', '1. e4 e6 2. d4 d5 3. e5 c5 4. c3 Ne7 5. f4 Nbc6', '1. e4 e5 2. Nf3 Nc6 3. Bc4 Nf6 4. d3 h6 5. O-O Bc5', '1. e4 c5 2. Nf3 d6 3. h3 Nc6 4. d4 cxd4 5. Nxd4 e5', '1. e4 d5 2. e5 d4 3. Nf3 Nc6 4. c3 d3 5. Na3 f6', '1. e3 d5 2. b3 e5 3. Bb2 Qg5 4. g3 Nf6 5. Bh3 Nc6', '1. d4 d5 2. Nf3 Nf6 3. e3 Bf5 4. Nh4 Bg6 5. Nxg6 hxg6', '1. e4 e5 2. Nf3 Nc6 3. Bc4 Bc5 4. b4 Bxb4 5. c3 Bc5', '1. e4 e6 2. b3 d6 3. Bb2 e5 4. g3 Nf6 5. Bh3 Bxh3', '1. e3 d5 2. b3 e5 3. Bb2 Nf6 4. g3 Nc6 5. Bg2 Bf5', '1. e4 e5 2. Nf3 Nc6 3. Bc4 Nf6 4. d4 d5 5. dxe5 Nxe4', '1. c4 d6 2. e4 Nf6 3. Nc3 e5 4. Nf3 Be6 5. d3 Be7', '1. e4 c5 2. Nf3 Nc6 3. Bb5 d6 4. c3 Bd7 5. d4 cxd4', '1. e4 e6 2. d4 d5 3. e5 c5 4. c3 Ne7 5. f4 Nbc6', '1. e4 c5 2. Nf3 g6 3. Bc4 Bg7 4. O-O e6 5. d4 Ne7', '1. e4 d5 2. e5 d4 3. d3 Qd5 4. Nf3 h6 5. c3 dxc3', '1. e4 c5 2. c3 g6 3. d4 cxd4 4. cxd4 Bg7 5. Nf3 e6', '1. e4 c5 2. Nf3 d6 3. Nc3 Nc6 4. d4 cxd4 5. Nxd4 g6', '1. e4 e5 2. Nf3 d6 3. Bc4 Nf6 4. Nc3 h6 5. d4 Be7', '1. e4 c5 2. f4 d5 3. exd5 Qxd5 4. Nc3 Qd8 5. d3 e6', '1. e4 c5 2. Nf3 e6 3. Be2 d5 4. exd5 exd5 5. d4 Nf6', '1. e4 e5 2. Nf3 Nc6 3. Bc4 Nf6 4. d3 d6 5. Bg5 Be7', '1. e4 d5 2. e5 e6 3. d4 Ne7 4. Nf3 Ng6 5. Bb5+ c6', '1. e4 c5 2. d4 cxd4 3. c3 dxc3 4. Nxc3 d6 5. Nf3 g6', '1. e4 e6 2. d4 d5 3. e5 c5 4. c3 Nc6 5. f4 Nge7', '1. e4 e5 2. Nf3 Nc6 3. Bc4 h6 4. d4 exd4 5. Nxd4 Bc5', '1. e4 e5 2. Nf3 Nf6 3. d4 d6 4. dxe5 dxe5 5. Bd3 Bc5', '1. e4 c5 2. Nf3 d6 3. d4 Na6 4. Bxa6 bxa6 5. dxc5 Bb7', '1. e4 c5 2. d4 d6 3. dxc5 dxc5 4. Qxd8+ Kxd8 5. Be3 e5', '1. e4 c5 2. Nf3 e6 3. Be2 d5 4. d3 Nf6 5. e5 Nfd7', '1. e4 d5 2. e5 c5 3. g3 Nc6 4. Qe2 Nh6 5. d4 Bg4', '1. e4 e5 2. Nf3 Nc6 3. Bc4 Nf6 4. d3 Be7 5. Nc3 d6', '1. e4 e6 2. Nf3 d5 3. exd5 exd5 4. d4 Nf6 5. h3 Bd6', '1. e4 e5 2. d4 d5 3. dxe5 dxe4 4. Qxd8+ Kxd8 5. Nc3 Nc6', '1. e4 e5 2. Nf3 d6 3. Bc4 h6 4. Nc3 c6 5. d3 b5', '1. e4 d5 2. e5 c5 3. Nf3 Nc6 4. Bb5 Bg4 5. Bxc6+ bxc6', '1. e4 e6 2. d4 Ne7 3. Nf3 Ng6 4. Bg5 Be7 5. Bxe7 Qxe7', '1. e4 d5 2. exd5 Qxd5 3. Nc3 Qa5 4. d3 c6 5. Bd2 Qb6', '1. c4 Nf6 2. f3 g6 3. Nc3 Bg7 4. e3 d6 5. d4 O-O', '1. e4 e5 2. Nf3 Nc6 3. Bb5 Nf6 4. O-O Nxe4 5. Re1 d5', '1. e4 c5 2. Nf3 e6 3. Be2 d5 4. e5 f6 5. d4 Nc6', '1. e3 c5 2. g3 d6 3. Bg2 e6 4. Qf3 Be7 5. Nc3 Nf6', '1. e4 c5 2. Nf3 d6 3. Bc4 e6 4. d3 a6 5. a3 Nf6', '1. e4 e6 2. d4 d5 3. e5 c5 4. c3 Ne7 5. Nf3 Nbc6', '1. e4 e5 2. g3 Nf6 3. Bg2 Nc6 4. Nc3 Bc5 5. d3 h6', '1. e4 e5 2. Nf3 Nc6 3. Bc4 h6 4. O-O Nf6 5. Re1 Be7', '1. e4 d5 2. exd5 Qxd5 3. d3 e5 4. Nc3 Bb4 5. Bd2 Bxc3', '1. e4 c5 2. Nf3 Nc6 3. d4 cxd4 4. Nxd4 e5 5. Nxc6 bxc6', '1. e4 e6 2. Nf3 d5 3. e5 c5 4. c3 Nc6 5. d4 Nge7', '1. e4 c5 2. Nf3 d6 3. Bc4 e6 4. a3 Nf6 5. d3 Be7', '1. e4 d5 2. e5 c5 3. Nf3 Nc6 4. Bb5 Bg4 5. Bxc6+ bxc6', '1. e4 d5 2. exd5 Qxd5 3. Nc3 Qd8 4. Nf3 e6 5. Be2 h6', '1. e3 g6 2. e4 Bg7 3. f4 h6 4. g4 b6 5. h4 Bb7', '1. e4 c5 2. Nf3 e6 3. Be2 d5 4. e5 f6 5. d3 fxe5', '1. e4 c5 2. Nf3 e6 3. d4 cxd4 4. Nxd4 a6 5. Nc3 Qc7', '1. e4 d5 2. e5 c5 3. c3 Nc6 4. d4 g6 5. Nf3 Nh6', '1. e4 c5 2. Bc4 e6 3. d3 d5 4. exd5 exd5 5. Bb5+ Nc6', '1. d4 d5 2. e3 c6 3. Nf3 b6 4. Be2 a6 5. O-O Bb7', '1. e4 d5 2. e5 e6 3. d4 Nc6 4. Nf3 Bd7 5. c3 Qc8', '1. e4 e6 2. Nf3 d6 3. c3 f6 4. d4 b6 5. e5 Qd7', '1. e4 d5 2. exd5 Nf6 3. Nc3 Nxd5 4. Nxd5 Qxd5 5. b3 e5', '1. e4 c5 2. Nf3 e6 3. d4 cxd4 4. Nxd4 Nc6 5. Nb3 d5', '1. e4 c5 2. Bc4 e6 3. d3 Nc6 4. Bf4 d5 5. Nf3 dxc4', '1. e4 e6 2. d4 d5 3. e5 c5 4. Nf3 Nc6 5. Be3 Qa5+', '1. e4 c5 2. Nf3 d6 3. Bc4 e6 4. a3 Nf6 5. d3 a6', '1. e4 d5 2. exd5 Qxd5 3. Nc3 Qd8 4. Nf3 e6 5. d3 h6', '1. e4 e6 2. d4 d5 3. e5 c5 4. c3 Ne7 5. Bd3 Nbc6', '1. e4 e6 2. d4 d5 3. exd5 exd5 4. Bd3 Nf6 5. Bg5 Bd6', '1. e4 c5 2. Nf3 b6 3. c3 Nc6 4. d4 e6 5. Be3 d6', '1. e4 c5 2. Bc4 e6 3. d3 d5 4. e5 dxc4 5. dxc4 Qxd1+', '1. e4 c5 2. d4 cxd4 3. Qxd4 Nc6 4. Qd1 a6 5. c3 g6', '1. c4 e5 2. Nc3 Nf6 3. f3 d5 4. cxd5 Nxd5 5. e4 Nf6', '1. e4 d5 2. e5 Be6 3. d4 c6 4. Nf3 Qc7 5. c3 f6', '1. e4 c5 2. d4 e6 3. dxc5 Bxc5 4. e5 Nc6 5. Bc4 Nxe5', '1. e4 c5 2. Nf3 Nc6 3. d4 cxd4 4. Nxd4 e6 5. Nc3 Bc5', '1. e4 d5 2. exd5 Qxd5 3. Nc3 Qd8 4. Nf3 e6 5. Be2 h6', '1. e4 d5 2. exd5 Qxd5 3. Nc3 Qd6 4. Qf3 Nc6 5. Bc4 Nf6', '1. e4 e6 2. d4 c5 3. Nf3 cxd4 4. Nxd4 e5 5. Nb3 Nf6', '1. c4 d6 2. Nf3 e5 3. e4 c5 4. Nc3 Nc6 5. Nd5 Be6', '1. e4 c5 2. Nf3 d6 3. Bc4 a6 4. a3 e6 5. d3 Nf6', '1. e4 e6 2. Bc4 d5 3. exd5 exd5 4. Bb3 Nf6 5. d4 c5', '1. e4 e6 2. Bc4 d5 3. exd5 exd5 4. Bb3 Nf6 5. Nf3 Bd6', '1. e4 c5 2. f4 e6 3. Nf3 d5 4. exd5 exd5 5. d4 Nf6', '1. e4 e5 2. Bc4 Nc6 3. d3 Bc5 4. Nf3 d6 5. h3 Be6', '1. e4 c5 2. Nf3 d6 3. Bc4 e6 4. d3 a6 5. a3 Nf6', '1. e4 { [%eval 0.2] } 1... e6 { [%eval 0.13] } 2. Bc4 { [%eval -0.31] } 2... d5 { [%eval -0.28] } 3. exd5 { [%eval -0.37] } 3... exd5 { [%eval -0.31] } 4. Bb3 { [%eval -0.33] } 4... Nf6 { [%eval -0.35] } 5. d4 { [%eval -0.34] } 5... Be7 { [%eval 0.0] }', '1. e4 e6 2. d4 f6 3. c4 g6 4. e5 h6 5. f4 f5']\n"
          ]
        }
      ],
      "source": [
        "from collections import Counter\n",
        "print(Counter(test_openings))\n",
        "print(\"\\n\")\n",
        "print(Counter(test_win_lose))\n",
        "print(\"\\n\")\n",
        "print(test_data[0:100])"
      ]
    },
    {
      "cell_type": "code",
      "execution_count": null,
      "metadata": {
        "id": "QCKVHy3R9MuF",
        "outputId": "18e091a2-f1b6-47a8-d993-5388b21c9995"
      },
      "outputs": [
        {
          "name": "stdout",
          "output_type": "stream",
          "text": [
            "Counter({'Sicilian Defense': 11803, \"Queen's Pawn Game\": 8427, 'French Defense': 8160, \"King's Pawn Game\": 5274, 'Scandinavian Defense': 5207, 'Philidor Defense': 4625, \"Van't Kruijs Opening\": 3995, 'English Opening': 3942, 'Italian Game': 3923, 'Ruy Lopez': 3458, 'Caro-Kann Defense': 3406, 'Owen Defense': 3290, \"Bishop's Opening\": 2961, 'Hungarian Opening': 2755, 'Modern Defense': 2560, \"Queen's Gambit Declined\": 2302, 'Scotch Game': 2043, 'Horwitz Defense': 1953, 'Zukertort Opening': 1708, 'Pirc Defense': 1691, 'Nimzowitsch Defense': 1679, \"King's Gambit Accepted\": 1640, \"Queen's Gambit Accepted\": 1494, 'Four Knights Game': 1448, \"Queen's Gambit Refused\": 1422, 'Indian Game': 1400, 'Nimzo-Larsen Attack': 1343, 'English Defense': 1278, 'Slav Defense': 1261, 'Bird Opening': 1157, 'Alekhine Defense': 1121, 'Vienna Game': 1121, 'Russian Game': 1016, 'Center Game': 984, \"Queen's Pawn\": 902, \"King's Knight Opening\": 796, 'Rat Defense': 747, 'Dutch Defense': 739, 'Semi-Slav Defense': 717, 'Mieses Opening': 692, 'Three Knights Opening': 676, 'Old Benoni Defense': 661, 'Benoni Defense': 594, \"King's Gambit Declined\": 594, 'Saragossa Opening': 590, \"King's Gambit\": 534, 'Nimzo-Indian Defense': 510, \"King's Indian Defense\": 509, 'Robatsch (Modern) Defense': 443, 'Polish Opening': 424, 'Blackmar-Diemer Gambit': 377, 'Ponziani Opening': 366, 'Elephant Gambit': 346, 'Englund Gambit Declined': 342, 'Danish Gambit': 335, 'Colle System': 329, \"Petrov's Defense\": 328, 'St. George Defense': 326, 'Giuoco Piano': 325, 'Englund Gambit': 321, \"King's Indian Attack\": 318, 'Old Indian Defense': 305, 'Van Geet Opening': 285, 'Englund Gambit Complex': 263, 'Mikenas Defense': 246, 'Reti Opening': 241, 'Gruenfeld Defense': 216, 'Danish Gambit Accepted': 204, 'Kadas Opening': 195, 'Grob Opening': 181, 'Polish Defense': 154, \"Queen's Gambit\": 148, \"Gedult's Opening\": 136, 'Franco-Benoni Defense': 135, 'Trompowsky Attack': 130, 'Latvian Gambit Accepted': 124, 'Torre Attack': 121, 'Budapest Defense': 115, \"King's Pawn Opening\": 115, 'Englund Gambit Complex Declined': 113, 'Tarrasch Defense': 104, \"Queen's Pawn Opening\": 93, 'Latvian Gambit': 91, 'Goldsmith Defense': 88, 'Canard Opening': 84, 'Petrov': 83, 'Yusupov-Rubinstein System': 80, 'Duras Gambit': 79, 'Barnes Defense': 78, 'Anderssen Opening': 73, 'Portuguese Opening': 71, \"Queen's Indian Defense\": 69, 'Gunderam Defense': 65, 'Ware Defense': 62, 'Catalan Opening': 61, 'East Indian Defense': 61, 'Carr Defense': 54, 'Ware Opening': 48, 'Borg Defense': 46, 'Clemenz Opening': 43, 'Kangaroo Defense': 40, 'Blumenfeld Countergambit': 38, 'Bogo-Indian Defense': 37, 'Blackmar-Diemer Gambit Declined': 37, 'Semi-Bononi': 36, 'Danish Gambit Declined': 36, \"King's Pawn\": 36, 'Paleface Attack': 34, 'Richter-Veresov Attack': 31, 'Mexican Defense': 30, \"Queen's Indian Accelerated\": 28, 'Slav Indian': 24, 'Center Game Accepted': 23, 'Neo-Gruenfeld Defense': 22, 'Guatemala Defense': 22, 'Amazon Attack': 22, 'Nimzowitsch-Larsen Attack': 21, 'Lion Defense': 20, 'Old Indian': 19, 'Benko Gambit': 19, 'Czech Defense': 18, 'Barnes Opening': 17, 'Amar Opening': 17, 'London System': 15, 'Pterodactyl Defense': 15, 'System': 12, 'Rubinstein Opening': 11, 'Hippopotamus Defense': 10, 'Lemming Defense': 9, 'Wade Defense': 9, 'Montevideo Defense': 9, 'Global Opening': 8, 'Australian Defense': 8, 'Creepy Crawly Formation': 8, 'Robatsch Defense': 7, 'Scotch Gambit': 5, 'Semi-Slav Defense Accepted': 4, 'Sodium Attack': 4, 'Lasker Simul Special': 3, 'Vulture Defense': 3, 'Blackmar-Diemer': 3, 'Benko Gambit Accepted': 2, 'English Orangutan': 2, 'Four Knights': 2, 'Valencia Opening': 2, 'Ruy Lopez Defense': 1, 'Crab Opening': 1, 'Irish Gambit': 1, \"King's Indian\": 1, 'Bronstein Gambit': 1, 'Tayler Opening': 1})\n",
            "\n",
            "\n",
            "Counter({'1-0': 62129, '0-1': 55221, '1/2-1/2': 3982})\n",
            "\n",
            "\n",
            "['1. e4 e6 2. d4 b6 3. a3 Bb7 4. Nc3 Nh6 5. Bxh6 gxh6', '1. d4 d5 2. Nf3 Nf6 3. e3 Bf5 4. Nh4 Bg6 5. Nxg6 hxg6', '1. e4 e5 2. Nf3 Nc6 3. Bc4 Nf6 4. Nc3 Bc5 5. a3 Bxf2+', '1. e4 c6 2. Nc3 d5 3. Qf3 dxe4 4. Nxe4 Nd7 5. Bc4 Ngf6', '1. e4 e6 2. f4 d5 3. e5 c5 4. Nf3 Qb6 5. c3 Nc6', '1. e4 b6 2. Bc4 Bb7 3. d3 Nh6 4. Bxh6 gxh6 5. Qf3 e6', '1. e4 e5 2. Nf3 Nc6 3. Bc4 Nf6 4. d3 Bc5 5. c3 O-O', '1. e4 e5 2. c4 Bc5 3. Nf3 d6 4. d3 a6 5. a3 Bg4', '1. d4 c5 2. c4 d6 3. Bf4 g6 4. Nf3 Bh6 5. Bxh6 Nxh6', '1. d4 e5 2. dxe5 d6 3. exd6 Bxd6 4. Nf3 Nf6 5. Nc3 O-O', '1. e4 g6 2. d4 d6 3. Nf3 c6 4. h3 Nf6 5. Bg5 Nxe4', '1. e4 e6 2. d4 d5 3. Nc3 Nf6 4. Bg5 Be7 5. Bxf6 Bxf6', '1. e4 e5 2. Nf3 Nc6 3. Bc4 Bc5 4. a3 Qf6 5. b4 Bb6', '1. e4 e5 2. Nf3 Nc6 3. Bb5 Nge7 4. Nc3 h6 5. Nd5 a6', '1. e4 c5 2. f4 d5 3. exd5 Qxd5 4. Nc3 Qd8 5. Bc4 Bf5', '1. b3 e5 2. Bb2 e4 3. d3 Nf6 4. Nh3 d5 5. dxe4 Nxe4', '1. e4 e6 2. d4 d5 3. e5 c5 4. c3 Ne7 5. f4 cxd4', '1. e4 e6 2. d4 b6 3. d5 Bb4+ 4. c3 Bc5 5. b4 Bd6', '1. e4 d5 2. exd5 Qxd5 3. Nc3 Qe5+ 4. Be2 Bg4 5. d4 Qe6', '1. e4 e5 2. Bc4 Nf6 3. d3 Bc5 4. Bg5 Bxf2+ 5. Kxf2 Nxe4+', '1. e4 e5 2. f4 d6 3. Nf3 Nc6 4. d4 exd4 5. Nxd4 Be7', '1. e4 e5 2. Nf3 Nc6 3. Bc4 Be7 4. d4 exd4 5. Nxd4 d6', '1. e4 d5 2. exd5 Qxd5 3. Nc3 Qe6+ 4. Qe2 Nf6 5. Nf3 b6', '1. d4 d5 2. c4 dxc4 3. e4 g6 4. Bxc4 Bg7 5. Ne2 Nf6', '1. e4 e5 2. Nf3 Qf6 3. d4 d6 4. d5 Bd7 5. Nc3 a6', '1. d4 e6 2. e3 c5 3. c3 d5 4. Bd3 c4 5. Bc2 b5', '1. e4 g6 2. c4 Bg7 3. d4 b6 4. Nf3 c5 5. d5 Nf6', '1. c4 Nf6 2. Nf3 e6 3. e3 c5 4. Nc3 Nc6 5. Be2 b6', '1. e4 e6 2. d4 d5 3. e5 c5 4. c3 Ne7 5. f4 Nbc6', '1. e4 d6 2. d4 c6 3. c4 b5 4. d5 cxd5 5. cxd5 Bd7', '1. d4 c5 2. c4 cxd4 3. Qxd4 Nc6 4. Qd1 g6 5. a3 Bg7', '1. e4 e5 2. Nf3 Nc6 3. Bc4 Nf6 4. d3 h6 5. O-O Bc5', '1. e4 e5 2. d4 Qf6 3. dxe5 Qxe5 4. Qe2 Nf6 5. Nf3 Qxe4', '1. e4 g6 2. d4 Bg7 3. c3 e6 4. Bd3 f5 5. exf5 gxf5', '1. e4 e5 2. Bc4 c6 3. Nf3 d5 4. exd5 cxd5 5. Bb3 Nc6', '1. e4 c5 2. Nf3 d6 3. h3 Nc6 4. d4 cxd4 5. Nxd4 e5', '1. e4 d5 2. e5 d4 3. Nf3 Nc6 4. c3 d3 5. Na3 f6', '1. e3 d5 2. b3 e5 3. Bb2 Qg5 4. g3 Nf6 5. Bh3 Nc6', '1. d4 b6 2. c4 e6 3. Nc3 Bb7 4. a3 g6 5. h3 Bg7', '1. d4 d5 2. Nf3 Nf6 3. e3 Bf5 4. Nh4 Bg6 5. Nxg6 hxg6', '1. e4 e5 2. Nf3 Nc6 3. Bc4 Bc5 4. b4 Bxb4 5. c3 Bc5', '1. e4 c6 2. Nf3 d5 3. exd5 cxd5 4. d4 Nc6 5. Nc3 e6', '1. e4 e6 2. b3 d6 3. Bb2 e5 4. g3 Nf6 5. Bh3 Bxh3', '1. e4 Nf6 2. Nf3 Nxe4 3. Nc3 Nxc3 4. dxc3 e6 5. Bg5 Be7', '1. Nc3 c5 2. d3 g6 3. e4 Bg7 4. f4 Nc6 5. Nf3 e6', '1. d4 Nc6 2. e3 d5 3. Bd3 Bf5 4. Bd2 e6 5. Nf3 Bxd3', '1. e3 d5 2. b3 e5 3. Bb2 Nf6 4. g3 Nc6 5. Bg2 Bf5', '1. e4 e5 2. Nf3 Nc6 3. Bc4 Nf6 4. d4 d5 5. dxe5 Nxe4', '1. c4 d6 2. e4 Nf6 3. Nc3 e5 4. Nf3 Be6 5. d3 Be7', '1. d4 d5 2. c4 Bf5 3. Bf4 dxc4 4. e3 e6 5. Bxc4 Bd6', '1. e4 c5 2. Nf3 Nc6 3. Bb5 d6 4. c3 Bd7 5. d4 cxd4', '1. e4 e6 2. d4 d5 3. e5 c5 4. c3 Ne7 5. f4 Nbc6', '1. e4 c6 2. Nf3 d5 3. exd5 cxd5 4. d4 Nc6 5. Nc3 Bf5', '1. d4 d6 2. e4 Nd7 3. Bb5 c6 4. Bc4 e5 5. d5 Ngf6', '1. e4 c5 2. Nf3 g6 3. Bc4 Bg7 4. O-O e6 5. d4 Ne7', '1. d4 e5 2. c4 exd4 3. Qxd4 Nc6 4. Qd1 d6 5. Nc3 Nf6', '1. e4 d5 2. e5 d4 3. d3 Qd5 4. Nf3 h6 5. c3 dxc3', '1. e4 c5 2. c3 g6 3. d4 cxd4 4. cxd4 Bg7 5. Nf3 e6', '1. e4 Nc6 2. d4 e5 3. d5 Nce7 4. Nc3 Ng6 5. Bd3 Bb4', '1. e4 e5 2. d4 exd4 3. Qxd4 Nc6 4. Qe3 Nf6 5. Nc3 a6', '1. e4 c5 2. Nf3 d6 3. Nc3 Nc6 4. d4 cxd4 5. Nxd4 g6', '1. d4 b6 2. e3 Bb7 3. Bd3 a6 4. Nf3 g6 5. e4 c6', '1. b3 d5 2. Bb2 e5 3. a4 f5 4. a5 c5 5. a6 bxa6', '1. e4 e5 2. Nf3 d6 3. Bc4 Nf6 4. Nc3 h6 5. d4 Be7', '1. d4 d5 2. c4 e6 3. c5 c6 4. b4 a5 5. a3 axb4', '1. e4 c5 2. f4 d5 3. exd5 Qxd5 4. Nc3 Qd8 5. d3 e6', '1. e4 c5 2. Nf3 e6 3. Be2 d5 4. exd5 exd5 5. d4 Nf6', '1. e4 e5 2. Nf3 Nc6 3. Bc4 Nf6 4. d3 d6 5. Bg5 Be7', '1. e4 d5 2. e5 e6 3. d4 Ne7 4. Nf3 Ng6 5. Bb5+ c6', '1. e4 c5 2. d4 cxd4 3. c3 dxc3 4. Nxc3 d6 5. Nf3 g6', '1. d4 b6 2. e4 Bb7 3. c4 a6 4. f4 e6 5. d5 exd5', '1. Nf3 b6 2. d4 Bb7 3. c4 g6 4. Nc3 Bg7 5. e4 e6', '1. e4 g6 2. Nf3 e6 3. d4 Bg7 4. Bc4 Ne7 5. Nc3 O-O', '1. e4 e6 2. d4 d5 3. e5 c5 4. c3 Nc6 5. f4 Nge7', '1. e4 e5 2. Nf3 Nc6 3. Bc4 h6 4. d4 exd4 5. Nxd4 Bc5', '1. e4 e5 2. Nf3 Nf6 3. d4 d6 4. dxe5 dxe5 5. Bd3 Bc5', '1. d4 c6 2. c4 d5 3. Nc3 dxc4 4. Nf3 Nf6 5. Bg5 Bg4', '1. e4 c5 2. Nf3 d6 3. d4 Na6 4. Bxa6 bxa6 5. dxc5 Bb7', '1. d4 e6 2. Nf3 Be7 3. c4 c6 4. Nc3 d5 5. cxd5 cxd5', '1. e4 c5 2. d4 d6 3. dxc5 dxc5 4. Qxd8+ Kxd8 5. Be3 e5', '1. e4 c5 2. Nf3 e6 3. Be2 d5 4. d3 Nf6 5. e5 Nfd7', '1. e4 d5 2. e5 c5 3. g3 Nc6 4. Qe2 Nh6 5. d4 Bg4', '1. d4 b6 2. e4 Bb7 3. f4 a6 4. c4 b5 5. cxb5 axb5', '1. e4 e5 2. Nf3 Nc6 3. Bc4 Nf6 4. d3 Be7 5. Nc3 d6', '1. e4 e6 2. Nf3 d5 3. exd5 exd5 4. d4 Nf6 5. h3 Bd6', '1. Nf3 g6 2. d4 Bg7 3. c4 e6 4. Nc3 c6 5. e3 Ne7', '1. e4 e5 2. d4 d5 3. dxe5 dxe4 4. Qxd8+ Kxd8 5. Nc3 Nc6', '1. e4 e5 2. Nf3 d6 3. Bc4 h6 4. Nc3 c6 5. d3 b5', '1. e4 d5 2. e5 c5 3. Nf3 Nc6 4. Bb5 Bg4 5. Bxc6+ bxc6', '1. d4 c6 2. c4 d5 3. Nc3 e6 4. Nf3 Nf6 5. Bg5 Be7', '1. b3 g6 2. Bb2 Nf6 3. a3 Bg7 4. g4 O-O 5. g5 b6', '1. e4 e6 2. d4 Ne7 3. Nf3 Ng6 4. Bg5 Be7 5. Bxe7 Qxe7', '1. e4 e5 2. Nf3 Nc6 3. Nc3 Bc5 4. Bb5 Nd4 5. Nxe5 Qg5', '1. e4 d5 2. exd5 Qxd5 3. Nc3 Qa5 4. d3 c6 5. Bd2 Qb6', '1. c4 Nf6 2. f3 g6 3. Nc3 Bg7 4. e3 d6 5. d4 O-O', '1. e4 e5 2. Nf3 Nc6 3. Bb5 Nf6 4. O-O Nxe4 5. Re1 d5', '1. b3 g6 2. Bb2 Nf6 3. g4 b6 4. g5', '1. b3 c5 2. Bb2 d6 3. d3 f6 4. Nd2 e5 5. c4 Bd7', '1. d4 d5 2. c4 Nf6 3. Nc3 e6 4. a3 Be7 5. c5 O-O', '1. e4 g6 2. Nf3 Bg7 3. c3 d6 4. d4 Nf6 5. Bd3 O-O']\n"
          ]
        }
      ],
      "source": [
        "from collections import Counter\n",
        "print(Counter(opening))\n",
        "print(\"\\n\")\n",
        "print(Counter(win_lose))\n",
        "print(\"\\n\")\n",
        "print(data[0:100])"
      ]
    },
    {
      "cell_type": "code",
      "execution_count": null,
      "metadata": {
        "id": "gB1byZvb9MuF"
      },
      "outputs": [],
      "source": [
        "import numpy as np\n",
        "import pandas as pd\n",
        "opening = pd.DataFrame(test_openings)\n",
        "win_lose = pd.DataFrame(test_win_lose)\n",
        "data = pd.DataFrame(test_data)\n",
        "\n",
        " \n",
        "concacted = pd.concat([data,opening,win_lose],axis= 1)\n",
        "concacted.columns = ['data','opening','win_lose']\n",
        "concacted = concacted.dropna()\n"
      ]
    },
    {
      "cell_type": "code",
      "execution_count": null,
      "metadata": {
        "id": "u_DDH_At9MuF"
      },
      "outputs": [],
      "source": [
        "temp_data = concacted[\"data\"]\n",
        "cols = [i  for i in range(0,len(temp_data)) if temp_data[i].find(\"eval\") != -1]\n",
        "concacted = concacted.drop(cols,axis=0,)\n"
      ]
    },
    {
      "cell_type": "code",
      "execution_count": null,
      "metadata": {
        "id": "mATAsiSh9MuG"
      },
      "outputs": [],
      "source": [
        "# concacted.to_csv(\"CNN_concacted.csv\")"
      ]
    },
    {
      "cell_type": "code",
      "execution_count": null,
      "metadata": {
        "id": "NCpNjfUo9MuG"
      },
      "outputs": [],
      "source": [
        "# # print(cols)\n",
        "# print(type(pd.DataFrame(concacted[\"data\"])))\n",
        "# pd.DataFrame(concacted[\"opening\"]).to_csv(\"opening.csv\", index= None,header=None)\n",
        "# pd.DataFrame(concacted[\"win_lose\"]).to_csv(\"win_lose.csv\", index= None,header=None)\n",
        "# pd.DataFrame(concacted[\"data\"]).to_csv(\"data.csv\", index= None,header=None)"
      ]
    },
    {
      "cell_type": "code",
      "execution_count": null,
      "metadata": {
        "id": "xXiwRm5K9MuG"
      },
      "outputs": [],
      "source": [
        "data = np.array(concacted[\"data\"])\n",
        "opening = np.array(concacted[\"opening\"])\n",
        "win_lose = np.array(concacted[\"win_lose\"])"
      ]
    },
    {
      "cell_type": "markdown",
      "metadata": {
        "id": "fcX2l_Fx9MuG"
      },
      "source": [
        "<font color = steel size = 5>Transform the data and labels to tensor so that they can be filled in CNN</font>"
      ]
    },
    {
      "cell_type": "code",
      "execution_count": null,
      "metadata": {
        "id": "FUdmhBmt9MuH"
      },
      "outputs": [],
      "source": [
        "from sentence_transformers import SentenceTransformer\n",
        "\n",
        "model = SentenceTransformer('paraphrase-MiniLM-L6-v2')\n",
        "\n",
        "embeded_movements = model.encode(data)\n"
      ]
    },
    {
      "cell_type": "code",
      "execution_count": null,
      "metadata": {
        "id": "lCloGAAI9MuH",
        "outputId": "fbb94eae-136a-4ad9-8cef-4ba6aa6b52f7"
      },
      "outputs": [
        {
          "name": "stdout",
          "output_type": "stream",
          "text": [
            "True\n"
          ]
        }
      ],
      "source": [
        "from collections import Counter\n",
        "import numpy as np\n",
        "\n",
        "def openingToIndex(o):\n",
        "    return all_openings.index(o)\n",
        "\n",
        "all_openings = list(Counter(opening).keys())\n",
        "\n",
        "opening_labels = []\n",
        "\n",
        "for o in opening:\n",
        "    opening_labels.append(openingToIndex(o))\n",
        "\n",
        "\n",
        "\n",
        "opening_labels = np.array(opening_labels)\n",
        "print(len(embeded_movements) == len(opening_labels))"
      ]
    },
    {
      "cell_type": "code",
      "execution_count": null,
      "metadata": {
        "id": "U0Cx2wOF9MuH"
      },
      "outputs": [],
      "source": [
        "from  imblearn.over_sampling import RandomOverSampler\n",
        "\n",
        "model_RandomOverSampler=RandomOverSampler()\n",
        "\n",
        "embeded_movements,opening_labels =  model_RandomOverSampler.fit_resample(embeded_movements,opening_labels) "
      ]
    },
    {
      "cell_type": "code",
      "execution_count": null,
      "metadata": {
        "id": "A4qFMp1N9MuI",
        "outputId": "fb8738e7-36f2-4ddc-e63f-7ab2b03acb2a"
      },
      "outputs": [
        {
          "name": "stdout",
          "output_type": "stream",
          "text": [
            "Counter({0: 11751, 1: 11751, 2: 11751, 3: 11751, 4: 11751, 5: 11751, 6: 11751, 7: 11751, 8: 11751, 9: 11751})\n"
          ]
        }
      ],
      "source": [
        "print(Counter(opening_labels))"
      ]
    },
    {
      "cell_type": "code",
      "execution_count": null,
      "metadata": {
        "id": "QP27QNlO9MuI",
        "outputId": "8456c442-e2c4-4dab-f546-dff497335ac2"
      },
      "outputs": [
        {
          "name": "stdout",
          "output_type": "stream",
          "text": [
            "117510\n"
          ]
        }
      ],
      "source": [
        "print(len(embeded_movements))"
      ]
    },
    {
      "cell_type": "code",
      "execution_count": null,
      "metadata": {
        "id": "D2T0PSxJ9MuJ",
        "outputId": "1f7f85e8-a136-4fc9-d392-36018a285d75"
      },
      "outputs": [
        {
          "name": "stdout",
          "output_type": "stream",
          "text": [
            "Counter({1: 2420, 4: 2386, 0: 2365, 8: 2358, 7: 2356, 3: 2339, 6: 2328, 9: 2324, 5: 2317, 2: 2309})\n",
            "Counter({2: 9442, 5: 9434, 9: 9427, 6: 9423, 3: 9412, 7: 9395, 8: 9393, 0: 9386, 4: 9365, 1: 9331})\n",
            "Counter({9: 8033, 6: 8018, 2: 8015, 8: 8012, 3: 8006, 7: 8003, 1: 7967, 4: 7955, 0: 7949, 5: 7948})\n",
            "Counter({5: 1486, 0: 1437, 2: 1427, 4: 1410, 3: 1406, 6: 1405, 9: 1394, 7: 1392, 8: 1381, 1: 1364})\n"
          ]
        }
      ],
      "source": [
        "import math\n",
        "import torch\n",
        "import random\n",
        "\n",
        "shuffle_index = [i for i in range(len(opening_labels))]\n",
        "\n",
        "random.shuffle(shuffle_index)\n",
        "\n",
        "opening_labels = opening_labels[shuffle_index]\n",
        "\n",
        "# random.shuffle(shuffle_index)\n",
        "embeded_movements = embeded_movements[shuffle_index]\n",
        "# win_lose = win_lose[shuffle_index]\n",
        "\n",
        "\n",
        "test_ratio = 0.2\n",
        "sep_index_test = int(len(embeded_movements) * (1- test_ratio))\n",
        "\n",
        "embeded_movements_test = embeded_movements[sep_index_test:]\n",
        "opening_labels_test = opening_labels[sep_index_test:]\n",
        "\n",
        "print(Counter(opening_labels_test))\n",
        "\n",
        "embeded_movements_sep = embeded_movements[:sep_index_test]\n",
        "opening_labels_sep = opening_labels[:sep_index_test]\n",
        "\n",
        "print(Counter(opening_labels_sep))\n",
        "\n",
        "\n",
        "\n",
        "train_ratio = 0.85\n",
        "\n",
        "sep_index = int(len(embeded_movements_sep) * train_ratio)\n",
        "\n",
        "\n",
        "embeded_movements_train  = embeded_movements_sep[:sep_index]\n",
        "opening_labels_train = opening_labels_sep[:sep_index]\n",
        "\n",
        "embeded_movements_valid  = embeded_movements_sep[sep_index:]\n",
        "opening_labels_valid = opening_labels_sep[sep_index:]\n",
        "\n",
        "print(Counter(opening_labels_train))\n",
        "print(Counter(opening_labels_valid))\n",
        "\n",
        "\n"
      ]
    },
    {
      "cell_type": "code",
      "execution_count": null,
      "metadata": {
        "id": "MNGDjEPp9MuJ"
      },
      "outputs": [],
      "source": [
        "embeded_movements_test = torch.from_numpy(embeded_movements_test).float()\n",
        "# opening_labels_test= torch.from_numpy(np.array(opening_labels_test)).long()\n",
        "embeded_movements_test = embeded_movements_test.reshape(embeded_movements_test.shape[0],1,embeded_movements_test.shape[1])\n",
        "\n",
        "embeded_movements_train = torch.from_numpy(embeded_movements_train).float()\n",
        "opening_labels_train= torch.from_numpy(np.array(opening_labels_train)).long()\n",
        "\n",
        "embeded_movements_valid = torch.from_numpy(embeded_movements_valid).float()\n",
        "opening_labels_valid= torch.from_numpy(np.array(opening_labels_valid)).long()\n",
        "\n",
        "embeded_movements_train = embeded_movements_train.reshape(embeded_movements_train.shape[0],1,embeded_movements_train.shape[1])\n",
        "embeded_movements_valid = embeded_movements_valid.reshape(embeded_movements_valid.shape[0],1,embeded_movements_valid.shape[1])\n",
        "\n",
        "\n",
        "batch_num = 200\n",
        "train_batch_size =len(embeded_movements_train)/batch_num\n",
        "valid_batch_size = len(embeded_movements_valid)/batch_num\n",
        "test_batch_size = len(embeded_movements_test)/batch_num\n",
        "\n",
        "Train_data_batch = {}\n",
        "Train_label_batch = {}\n",
        "for i in range (0,batch_num):\n",
        "  Train_data_batch[i] = embeded_movements_train[math.floor(i*train_batch_size):math.floor((i+1)*train_batch_size)].cuda()\n",
        "  Train_label_batch[i] = opening_labels_train[math.floor(i*train_batch_size):math.floor((i+1)*train_batch_size)].cuda()\n",
        "  # print(len(Train_data_batch[i]))\n",
        "  # print(len(Train_label_batch[i]))\n",
        "  # print(Counter(Train_label_batch[i]))\n",
        "\n",
        "Valid_data_batch = {}\n",
        "Valid_label_batch = {}\n",
        "for i in range (0,batch_num):\n",
        "  Valid_data_batch[i] = embeded_movements_valid[math.floor(i*valid_batch_size):math.floor((i+1)*valid_batch_size)].cuda()\n",
        "  Valid_label_batch[i] = opening_labels_valid[math.floor(i*valid_batch_size):math.floor((i+1)*valid_batch_size)].cuda()\n",
        "\n",
        "\n",
        "Test_data_batch = {}\n",
        "for i in range (0,batch_num):\n",
        "  Test_data_batch[i] = embeded_movements_test[math.floor(i*test_batch_size):math.floor((i+1)*test_batch_size)].cuda()"
      ]
    },
    {
      "cell_type": "code",
      "execution_count": null,
      "metadata": {
        "id": "OSqlqI9n9MuJ",
        "outputId": "700b29c0-5c2b-42fc-e831-4fbb0bab8082"
      },
      "outputs": [
        {
          "name": "stdout",
          "output_type": "stream",
          "text": [
            "Counter({1: 2420, 4: 2386, 0: 2365, 8: 2358, 7: 2356, 3: 2339, 6: 2328, 9: 2324, 5: 2317, 2: 2309})\n"
          ]
        }
      ],
      "source": [
        "# for i in range(len(Train_label_batch)):\n",
        "#     print(Counter(Train_label_batch[i].tolist()))\n",
        "# for i in range(len(Valid_label_batch)):\n",
        "#     print(Counter(Valid_label_batch[i].tolist()))\n",
        "print(Counter(opening_labels_test))"
      ]
    },
    {
      "cell_type": "code",
      "execution_count": null,
      "metadata": {
        "id": "m8PnJzwm9MuJ",
        "outputId": "3d79a048-5b13-45b9-ae2e-a50b1e9cbf50"
      },
      "outputs": [
        {
          "name": "stdout",
          "output_type": "stream",
          "text": [
            "79906\n",
            "79906\n",
            "torch.Size([70, 1, 384])\n"
          ]
        }
      ],
      "source": [
        "print(len(embeded_movements_train))\n",
        "print(len(opening_labels_train))\n",
        "\n",
        "print(Valid_data_batch[0].shape)"
      ]
    },
    {
      "cell_type": "code",
      "execution_count": null,
      "metadata": {
        "id": "3HESqtzu9MuK",
        "outputId": "56c5cc3c-3fba-4df8-bff5-d4b943b4d91e"
      },
      "outputs": [
        {
          "name": "stdout",
          "output_type": "stream",
          "text": [
            "10\n"
          ]
        }
      ],
      "source": [
        "print(len(all_openings))"
      ]
    },
    {
      "cell_type": "markdown",
      "metadata": {
        "id": "toxCMWqG9MuK"
      },
      "source": [
        "<font color = steel size = 5>Training</font>"
      ]
    },
    {
      "cell_type": "code",
      "execution_count": null,
      "metadata": {
        "id": "LB3MCard9MuK"
      },
      "outputs": [],
      "source": [
        "import torch.nn as nn\n",
        "\n",
        "n_label = len(all_openings)\n",
        "\n",
        "class Net(nn.Module):\n",
        "  def __init__(self):\n",
        "    super(Net, self).__init__()\n",
        "\n",
        "    self.convlayer1 = nn.Sequential(\n",
        "      nn.Conv1d(1,128,5,2),\n",
        "      nn.MaxPool1d(2,2),\n",
        "      nn.BatchNorm1d(128),\n",
        "      nn.ReLU()\n",
        "    )\n",
        "\n",
        "    self.convlayer2 = nn.Sequential(\n",
        "      nn.Conv1d(128,256,5,2),\n",
        "      nn.MaxPool1d(2,2),\n",
        "      nn.BatchNorm1d(256),\n",
        "      nn.ReLU()\n",
        "    )\n",
        "\n",
        "    self.convlayer3 = nn.Sequential(\n",
        "      nn.Conv1d(256,64,5,2),\n",
        "      nn.MaxPool1d(2,2),\n",
        "      nn.BatchNorm1d(64),\n",
        "      nn.ReLU()\n",
        "      \n",
        "    )\n",
        "\n",
        "    self.fullyconnected = nn.Sequential(\n",
        "      nn.Linear(5*64,250),\n",
        "      nn.BatchNorm1d(250),\n",
        "      nn.ReLU(),\n",
        "      nn.Dropout(0.5),\n",
        "\n",
        "      nn.Linear(250,200),\n",
        "      nn.BatchNorm1d(200),\n",
        "      nn.ReLU(),\n",
        "\n",
        "\n",
        "      nn.Linear(200,n_label),\n",
        "    )\n",
        "\n",
        "  def forward(self, x):\n",
        "    \n",
        "    x = self.convlayer1(x)\n",
        "    x = self.convlayer2(x)\n",
        "    x = self.convlayer3(x)\n",
        "    x = x.view(-1,5*64)\n",
        "    x = self.fullyconnected(x)\n",
        "\n",
        "    return x"
      ]
    },
    {
      "cell_type": "code",
      "execution_count": null,
      "metadata": {
        "id": "AuCRTj1U9MuL"
      },
      "outputs": [],
      "source": [
        "\n",
        "def trainNet(model,criterion,optimizer,epochs):\n",
        "    loss_index = []\n",
        "    train_losslist = []\n",
        "    valid_losslist = []\n",
        "\n",
        "    valid_loss_min = np.Inf # track change in validation loss\n",
        "    \n",
        "    for t in range(epochs):\n",
        "        ######################\n",
        "        # Training the model #\n",
        "        ######################\n",
        "        loss_training = 0\n",
        "        loss_validating = 0\n",
        "\n",
        "        model.train()\n",
        "        \n",
        "        for i in range (0,batch_num):\n",
        "            # Clearing the gradients of all optimized variables\n",
        "            optimizer.zero_grad()\n",
        "            # Forward pass: Computing predicted outputs\n",
        "            output = model(Train_data_batch[i])\n",
        "            # Calculating the batch loss\n",
        "            loss = criterion(output, Train_label_batch[i])\n",
        "            # Backward pass: compute gradient of loss with respect to parameters\n",
        "            loss.backward()\n",
        "            # Perform a single optimization step (parameter update)\n",
        "            optimizer.step()\n",
        "            # Update training loss\n",
        "            loss_training += loss.item()*(len(Train_data_batch[i]))\n",
        "\n",
        "\n",
        "\n",
        "        ########################    \n",
        "        # Validating the model #\n",
        "        ########################\n",
        "        model.eval()\n",
        "        for i in range (0,batch_num):\n",
        "            output = model(Valid_data_batch[i])\n",
        "            loss = criterion(output, Valid_label_batch[i])\n",
        "            # Update validating loss\n",
        "            loss_validating += loss.item()*(len(Valid_data_batch[i]))\n",
        "            \n",
        "\n",
        "        # Calculating average losses\n",
        "        train_loss = loss_training/len(embeded_movements_train)\n",
        "        valid_loss = loss_validating/len(embeded_movements_valid)\n",
        "\n",
        "\n",
        "        loss_index.append(t+1)\n",
        "        train_losslist.append(train_loss)\n",
        "        valid_losslist.append(valid_loss)\n",
        "\n",
        "        \n",
        "        print(\"[Epoch {t:5d} of {epochs}] Train loss: {train_loss:1.6f}, Validation Loss: {valid_loss:.6f}\".format(\n",
        "            t=t+1,epochs = epochs,train_loss = train_loss,valid_loss=valid_loss))\n",
        "\n",
        "        # Saving model if validation loss has decreased\n",
        "        if valid_loss <= valid_loss_min:\n",
        "            print('Validation loss decreased ({:.6f} --> {:.6f}).  Saving model ...'.format(\n",
        "                valid_loss_min,valid_loss))\n",
        "            torch.save(model.state_dict(), 'model_cifar.pt')\n",
        "            valid_loss_min = valid_loss\n",
        "\n",
        "    return loss_index,train_losslist,valid_losslist\n",
        "\n",
        "\n",
        "def predict(model,data):\n",
        "    pred = model(data)\n",
        "    pred = pred.cpu().detach().numpy()\n",
        "    pred = np.argmax(pred,axis=1)\n",
        "    return pred.tolist()\n",
        "\n",
        "    "
      ]
    },
    {
      "cell_type": "code",
      "execution_count": null,
      "metadata": {
        "id": "Z2gl_mvF9MuL",
        "outputId": "ca16fe63-45d6-4f49-8934-f0db96b7b30c"
      },
      "outputs": [
        {
          "name": "stdout",
          "output_type": "stream",
          "text": [
            "Net(\n",
            "  (convlayer1): Sequential(\n",
            "    (0): Conv1d(1, 128, kernel_size=(5,), stride=(2,))\n",
            "    (1): MaxPool1d(kernel_size=2, stride=2, padding=0, dilation=1, ceil_mode=False)\n",
            "    (2): BatchNorm1d(128, eps=1e-05, momentum=0.1, affine=True, track_running_stats=True)\n",
            "    (3): ReLU()\n",
            "  )\n",
            "  (convlayer2): Sequential(\n",
            "    (0): Conv1d(128, 256, kernel_size=(5,), stride=(2,))\n",
            "    (1): MaxPool1d(kernel_size=2, stride=2, padding=0, dilation=1, ceil_mode=False)\n",
            "    (2): BatchNorm1d(256, eps=1e-05, momentum=0.1, affine=True, track_running_stats=True)\n",
            "    (3): ReLU()\n",
            "  )\n",
            "  (convlayer3): Sequential(\n",
            "    (0): Conv1d(256, 64, kernel_size=(5,), stride=(2,))\n",
            "    (1): MaxPool1d(kernel_size=2, stride=2, padding=0, dilation=1, ceil_mode=False)\n",
            "    (2): BatchNorm1d(64, eps=1e-05, momentum=0.1, affine=True, track_running_stats=True)\n",
            "    (3): ReLU()\n",
            "  )\n",
            "  (fullyconnected): Sequential(\n",
            "    (0): Linear(in_features=320, out_features=250, bias=True)\n",
            "    (1): BatchNorm1d(250, eps=1e-05, momentum=0.1, affine=True, track_running_stats=True)\n",
            "    (2): ReLU()\n",
            "    (3): Dropout(p=0.5, inplace=False)\n",
            "    (4): Linear(in_features=250, out_features=200, bias=True)\n",
            "    (5): BatchNorm1d(200, eps=1e-05, momentum=0.1, affine=True, track_running_stats=True)\n",
            "    (6): ReLU()\n",
            "    (7): Linear(in_features=200, out_features=10, bias=True)\n",
            "  )\n",
            ")\n"
          ]
        }
      ],
      "source": [
        "model = Net().to(\"cuda\")\n",
        "criterion = nn.CrossEntropyLoss()\n",
        "optimizer = torch.optim.Adam(model.parameters(), lr=.0001,betas=(0.9,0.999),weight_decay=0.02)\n",
        "epochs = 10\n",
        "\n",
        "print(model)"
      ]
    },
    {
      "cell_type": "code",
      "execution_count": null,
      "metadata": {
        "id": "tWtsmmer9MuL",
        "outputId": "ba35b9fd-8bdb-4a5a-ab31-de22635101f4"
      },
      "outputs": [
        {
          "name": "stdout",
          "output_type": "stream",
          "text": [
            "[Epoch     1 of 10] Train loss: 1.177474, Validation Loss: 0.641943\n",
            "Validation loss decreased (inf --> 0.641943).  Saving model ...\n",
            "[Epoch     2 of 10] Train loss: 0.499531, Validation Loss: 0.329495\n",
            "Validation loss decreased (0.641943 --> 0.329495).  Saving model ...\n",
            "[Epoch     3 of 10] Train loss: 0.294282, Validation Loss: 0.262023\n",
            "Validation loss decreased (0.329495 --> 0.262023).  Saving model ...\n",
            "[Epoch     4 of 10] Train loss: 0.211520, Validation Loss: 0.198394\n",
            "Validation loss decreased (0.262023 --> 0.198394).  Saving model ...\n",
            "[Epoch     5 of 10] Train loss: 0.166623, Validation Loss: 0.160413\n",
            "Validation loss decreased (0.198394 --> 0.160413).  Saving model ...\n",
            "[Epoch     6 of 10] Train loss: 0.136896, Validation Loss: 0.138200\n",
            "Validation loss decreased (0.160413 --> 0.138200).  Saving model ...\n",
            "[Epoch     7 of 10] Train loss: 0.117129, Validation Loss: 0.160002\n",
            "[Epoch     8 of 10] Train loss: 0.105257, Validation Loss: 0.122511\n",
            "Validation loss decreased (0.138200 --> 0.122511).  Saving model ...\n",
            "[Epoch     9 of 10] Train loss: 0.096247, Validation Loss: 0.123865\n",
            "[Epoch    10 of 10] Train loss: 0.091446, Validation Loss: 0.127290\n"
          ]
        }
      ],
      "source": [
        "loss_index,train_losslist,valid_losslist = trainNet(model,criterion,optimizer,epochs)"
      ]
    },
    {
      "cell_type": "code",
      "execution_count": null,
      "metadata": {
        "id": "131tF29Q9MuM",
        "outputId": "2971265f-48a7-4d80-e4d7-acc6e1181cfb"
      },
      "outputs": [
        {
          "data": {
            "text/plain": [
              "<All keys matched successfully>"
            ]
          },
          "execution_count": 62,
          "metadata": {},
          "output_type": "execute_result"
        }
      ],
      "source": [
        "\n",
        "\n",
        "model.load_state_dict(torch.load('model_cifar.pt'))\n",
        "\n"
      ]
    },
    {
      "cell_type": "code",
      "execution_count": null,
      "metadata": {
        "id": "5aVSi11k9MuM",
        "outputId": "641b9026-e474-4263-cccf-782ea9411ffd"
      },
      "outputs": [
        {
          "name": "stdout",
          "output_type": "stream",
          "text": [
            "Counter({0: 2464, 3: 2440, 1: 2431, 4: 2411, 9: 2405, 8: 2343, 2: 2318, 5: 2311, 6: 2299, 7: 2080})\n",
            "Counter({1: 2420, 4: 2386, 0: 2365, 8: 2358, 7: 2356, 3: 2339, 6: 2328, 9: 2324, 5: 2317, 2: 2309})\n",
            "Test Accuracy = 0.96788\n",
            "F1 Score = 0.96774\n"
          ]
        }
      ],
      "source": [
        "from sklearn.metrics import accuracy_score, plot_confusion_matrix, confusion_matrix, ConfusionMatrixDisplay,f1_score\n",
        "\n",
        "Yhat_test = []\n",
        "# print(clf.predict(X_Valid_batch[0]))\n",
        "for i in range (0,batch_num):\n",
        "    # print(clf.predict(X_Valid_batch[0]))\n",
        "    prediction = predict(model,Test_data_batch[i])\n",
        "    Yhat_test += prediction\n",
        "\n",
        "# dasfads = opening_labels_test.values().tolist()\n",
        "# print(Counter(dasfads))\n",
        "print(Counter(Yhat_test))\n",
        "print(Counter(opening_labels_test))\n",
        "\n",
        "\n",
        "print('Test Accuracy = {score:.5}'.format(score=accuracy_score(opening_labels_test,Yhat_test)))\n",
        "print('F1 Score = {f1score:.5}'.format(f1score=f1_score(opening_labels_test,Yhat_test, average=\"macro\")))"
      ]
    },
    {
      "cell_type": "code",
      "execution_count": null,
      "metadata": {
        "id": "zlFrB6f79MuM",
        "outputId": "cc605547-0e73-4452-efb4-17a4c652cc01"
      },
      "outputs": [
        {
          "data": {
            "text/plain": [
              "<sklearn.metrics._plot.confusion_matrix.ConfusionMatrixDisplay at 0x2594717fb20>"
            ]
          },
          "execution_count": 69,
          "metadata": {},
          "output_type": "execute_result"
        },
        {
          "data": {
            "image/png": "[encoded data removed]",
            "text/plain": [
              "<Figure size 1440x1440 with 2 Axes>"
            ]
          },
          "metadata": {
            "needs_background": "light"
          },
          "output_type": "display_data"
        }
      ],
      "source": [
        "import matplotlib.pyplot as plt\n",
        "\n",
        "# Plotting confusion matrix\n",
        "cm = confusion_matrix(opening_labels_test,Yhat_test,normalize='true')\n",
        "disp = ConfusionMatrixDisplay(confusion_matrix=cm,display_labels=classes)\n",
        "fig, ax = plt.subplots(figsize=(20,20))\n",
        "disp.plot(ax = ax)"
      ]
    },
    {
      "cell_type": "code",
      "execution_count": null,
      "metadata": {
        "id": "CMzYcQeT9MuM",
        "outputId": "e5654cc3-b79b-4424-fa80-fd72a57a5460"
      },
      "outputs": [
        {
          "data": {
            "image/png": "[encoded data removed]",
            "text/plain": [
              "<Figure size 432x288 with 1 Axes>"
            ]
          },
          "metadata": {
            "needs_background": "light"
          },
          "output_type": "display_data"
        }
      ],
      "source": [
        "plt.plot(loss_index, train_losslist,loss_index, valid_losslist)\n",
        "plt.xlabel(\"Index\")\n",
        "plt.ylabel(\"Loss\")\n",
        "plt.legend([\"Training\",\"Validating\"])\n",
        "plt.title(\"Loss Curve\")\n",
        "plt.show()"
      ]
    }
  ],
  "metadata": {
    "interpreter": {
      "hash": "a044d164bcef4f3ca38495a6358de4e69616450145c1cb10b21046e7e6537d1b"
    },
    "kernelspec": {
      "display_name": "Python 3.10.3 64-bit",
      "language": "python",
      "name": "python3"
    },
    "language_info": {
      "codemirror_mode": {
        "name": "ipython",
        "version": 3
      },
      "file_extension": ".py",
      "mimetype": "text/x-python",
      "name": "python",
      "nbconvert_exporter": "python",
      "pygments_lexer": "ipython3",
      "version": "3.10.3"
    },
    "orig_nbformat": 4,
    "colab": {
      "name": "chess_opening_prediction.ipynb",
      "provenance": []
    }
  },
  "nbformat": 4,
  "nbformat_minor": 0
}