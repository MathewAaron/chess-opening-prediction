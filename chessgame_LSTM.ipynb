{
  "cells": [
    {
      "cell_type": "code",
      "execution_count": null,
      "metadata": {
        "id": "DZ2-gINX3dqe"
      },
      "outputs": [],
      "source": [
        "\"\"\"\n",
        "This code implements LSTM for chessgame WIN/LOSS/DRAW prediction.\n",
        "\"\"\"\n",
        "import os\n",
        "os.environ['CUDA_LAUNCH_BLOCKING'] = \"1\""
      ]
    },
    {
      "cell_type": "markdown",
      "metadata": {
        "id": "GPS3CrB43dqf"
      },
      "source": [
        "<font color = steel size = 5>Load the data, there should be string lists of data, opening label and win-lose label</font>"
      ]
    },
    {
      "cell_type": "code",
      "execution_count": null,
      "metadata": {
        "id": "QeDY6UQn3dqh"
      },
      "outputs": [],
      "source": [
        "def read_data(file_name):\n",
        "    \n",
        "    chess_openings = []\n",
        "    chess_moves = []\n",
        "    chess_result =[]\n",
        "    \n",
        "    with open(file_name,'r') as f:\n",
        "        \n",
        "        lines = f.readlines()\n",
        "    \n",
        "        lines = [s.strip() for s in lines]\n",
        "        \n",
        "    num_lines = len(lines)\n",
        "\n",
        "    i = 0\n",
        "    \n",
        "    while i < num_lines:\n",
        "        \n",
        "        current_line_opening = lines[i]\n",
        "        \n",
        "        if 'Result' in current_line_opening :\n",
        "            chess_result.append(current_line_opening[9:-2])\n",
        "\n",
        "        if 'Opening' in current_line_opening :\n",
        "            chess_openings.append(current_line_opening)\n",
        "        \n",
        "        if \"1. \" in current_line_opening :\n",
        "            if current_line_opening.find(\" 6.\")!= -1 :\n",
        "                chess_moves.append(current_line_opening[0:current_line_opening.find(\" 6.\")])\n",
        "            else:\n",
        "                index_0 = current_line_opening.find(\"0-\")\n",
        "                index_1 = current_line_opening.find(\"1/2-\")\n",
        "                index_2 = current_line_opening.find(\"1-\")\n",
        "                if index_0 != -1:\n",
        "                    chess_moves.append(current_line_opening[0:index_0 -1])\n",
        "                elif index_1 != -1:\n",
        "                    chess_moves.append(current_line_opening[0:index_1 -1])\n",
        "                elif index_2 != -1:\n",
        "                    chess_moves.append(current_line_opening[0:index_2 -1])\n",
        "                else:\n",
        "                    chess_moves.append(current_line_opening)\n",
        "            \n",
        "        i += 1\n",
        "    \n",
        "    return chess_openings,chess_moves,chess_result"
      ]
    },
    {
      "cell_type": "code",
      "execution_count": null,
      "metadata": {
        "id": "_ebSAAzj3dqi"
      },
      "outputs": [],
      "source": [
        "file_name = 'chess_moves_data.txt'\n",
        "r,data,win_lose = read_data(file_name)"
      ]
    },
    {
      "cell_type": "code",
      "execution_count": null,
      "metadata": {
        "id": "ILEWY1iC3dqi"
      },
      "outputs": [],
      "source": [
        "opening = []\n",
        "#For openings\n",
        "for i in range(0,len(r)):\n",
        "    o = r[i][10:-2]\n",
        "    arr =  o.split(\" \")\n",
        "    p_o = '' \n",
        "    for item in arr:\n",
        "    # r[i] = arr[0]+ arr[1]\n",
        "        if(len(p_o)!=0):\n",
        "            p_o +=' '\n",
        "        if(item.find(\":\")!= -1):\n",
        "            p_o +=item[:item.find(\":\")]\n",
        "            break\n",
        "        else:\n",
        "            p_o +=item\n",
        "    # print(p_o)\n",
        "    opening.append(p_o)"
      ]
    },
    {
      "cell_type": "code",
      "execution_count": null,
      "metadata": {
        "id": "uTwF8idx3dqj"
      },
      "outputs": [],
      "source": [
        "for i in range(0,len(opening)):\n",
        "    s = opening[i]\n",
        "    if s.find(\" #\") != -1:\n",
        "        opening[i] = s[0:s.find(\" #\")]\n",
        "    if s.find(\",\") != -1:\n",
        "        opening[i] = s.split(\",\")[0]"
      ]
    },
    {
      "cell_type": "code",
      "execution_count": null,
      "metadata": {
        "id": "XCwzwWYo3dqj",
        "outputId": "79fa2605-7a57-4cee-eb34-f28f51ca954e"
      },
      "outputs": [
        {
          "name": "stdout",
          "output_type": "stream",
          "text": [
            "1-0\n"
          ]
        }
      ],
      "source": [
        "print(win_lose[0])"
      ]
    },
    {
      "cell_type": "code",
      "execution_count": null,
      "metadata": {
        "id": "QavlVjuq3dqk"
      },
      "outputs": [],
      "source": [
        "classes = ['Sicilian Defense',\"Queen's Pawn Game\",'French Defense',\"King's Pawn Game\",'Scandinavian Defense','Philidor Defense',\"Van't Kruijs Opening\",'English Opening','Italian Game','Ruy Lopez']\n",
        "\n",
        "idxes = [i for i in range(len(opening)) if  opening[i] in classes]\n",
        "\n",
        "test_openings = [opening[i] for i in idxes]\n",
        "test_win_lose = [win_lose[i] for i in idxes]\n",
        "test_data = [data[i] for i in idxes]"
      ]
    },
    {
      "cell_type": "code",
      "execution_count": null,
      "metadata": {
        "id": "auDXXqxg3dqk",
        "outputId": "8d0d6aac-6a4e-4680-d320-4048fc9f3476"
      },
      "outputs": [
        {
          "name": "stdout",
          "output_type": "stream",
          "text": [
            "Counter({'1-0': 62129, '0-1': 55221, '1/2-1/2': 3982})\n",
            "\n",
            "\n",
            "['1. e4 e6 2. d4 b6 3. a3 Bb7 4. Nc3 Nh6 5. Bxh6 gxh6', '1. d4 d5 2. Nf3 Nf6 3. e3 Bf5 4. Nh4 Bg6 5. Nxg6 hxg6', '1. e4 e5 2. Nf3 Nc6 3. Bc4 Nf6 4. Nc3 Bc5 5. a3 Bxf2+', '1. e4 c6 2. Nc3 d5 3. Qf3 dxe4 4. Nxe4 Nd7 5. Bc4 Ngf6', '1. e4 e6 2. f4 d5 3. e5 c5 4. Nf3 Qb6 5. c3 Nc6', '1. e4 b6 2. Bc4 Bb7 3. d3 Nh6 4. Bxh6 gxh6 5. Qf3 e6', '1. e4 e5 2. Nf3 Nc6 3. Bc4 Nf6 4. d3 Bc5 5. c3 O-O', '1. e4 e5 2. c4 Bc5 3. Nf3 d6 4. d3 a6 5. a3 Bg4', '1. d4 c5 2. c4 d6 3. Bf4 g6 4. Nf3 Bh6 5. Bxh6 Nxh6', '1. d4 e5 2. dxe5 d6 3. exd6 Bxd6 4. Nf3 Nf6 5. Nc3 O-O', '1. e4 g6 2. d4 d6 3. Nf3 c6 4. h3 Nf6 5. Bg5 Nxe4', '1. e4 e6 2. d4 d5 3. Nc3 Nf6 4. Bg5 Be7 5. Bxf6 Bxf6', '1. e4 e5 2. Nf3 Nc6 3. Bc4 Bc5 4. a3 Qf6 5. b4 Bb6', '1. e4 e5 2. Nf3 Nc6 3. Bb5 Nge7 4. Nc3 h6 5. Nd5 a6', '1. e4 c5 2. f4 d5 3. exd5 Qxd5 4. Nc3 Qd8 5. Bc4 Bf5', '1. b3 e5 2. Bb2 e4 3. d3 Nf6 4. Nh3 d5 5. dxe4 Nxe4', '1. e4 e6 2. d4 d5 3. e5 c5 4. c3 Ne7 5. f4 cxd4', '1. e4 e6 2. d4 b6 3. d5 Bb4+ 4. c3 Bc5 5. b4 Bd6', '1. e4 d5 2. exd5 Qxd5 3. Nc3 Qe5+ 4. Be2 Bg4 5. d4 Qe6', '1. e4 e5 2. Bc4 Nf6 3. d3 Bc5 4. Bg5 Bxf2+ 5. Kxf2 Nxe4+', '1. e4 e5 2. f4 d6 3. Nf3 Nc6 4. d4 exd4 5. Nxd4 Be7', '1. e4 e5 2. Nf3 Nc6 3. Bc4 Be7 4. d4 exd4 5. Nxd4 d6', '1. e4 d5 2. exd5 Qxd5 3. Nc3 Qe6+ 4. Qe2 Nf6 5. Nf3 b6', '1. d4 d5 2. c4 dxc4 3. e4 g6 4. Bxc4 Bg7 5. Ne2 Nf6', '1. e4 e5 2. Nf3 Qf6 3. d4 d6 4. d5 Bd7 5. Nc3 a6', '1. d4 e6 2. e3 c5 3. c3 d5 4. Bd3 c4 5. Bc2 b5', '1. e4 g6 2. c4 Bg7 3. d4 b6 4. Nf3 c5 5. d5 Nf6', '1. c4 Nf6 2. Nf3 e6 3. e3 c5 4. Nc3 Nc6 5. Be2 b6', '1. e4 e6 2. d4 d5 3. e5 c5 4. c3 Ne7 5. f4 Nbc6', '1. e4 d6 2. d4 c6 3. c4 b5 4. d5 cxd5 5. cxd5 Bd7', '1. d4 c5 2. c4 cxd4 3. Qxd4 Nc6 4. Qd1 g6 5. a3 Bg7', '1. e4 e5 2. Nf3 Nc6 3. Bc4 Nf6 4. d3 h6 5. O-O Bc5', '1. e4 e5 2. d4 Qf6 3. dxe5 Qxe5 4. Qe2 Nf6 5. Nf3 Qxe4', '1. e4 g6 2. d4 Bg7 3. c3 e6 4. Bd3 f5 5. exf5 gxf5', '1. e4 e5 2. Bc4 c6 3. Nf3 d5 4. exd5 cxd5 5. Bb3 Nc6', '1. e4 c5 2. Nf3 d6 3. h3 Nc6 4. d4 cxd4 5. Nxd4 e5', '1. e4 d5 2. e5 d4 3. Nf3 Nc6 4. c3 d3 5. Na3 f6', '1. e3 d5 2. b3 e5 3. Bb2 Qg5 4. g3 Nf6 5. Bh3 Nc6', '1. d4 b6 2. c4 e6 3. Nc3 Bb7 4. a3 g6 5. h3 Bg7', '1. d4 d5 2. Nf3 Nf6 3. e3 Bf5 4. Nh4 Bg6 5. Nxg6 hxg6', '1. e4 e5 2. Nf3 Nc6 3. Bc4 Bc5 4. b4 Bxb4 5. c3 Bc5', '1. e4 c6 2. Nf3 d5 3. exd5 cxd5 4. d4 Nc6 5. Nc3 e6', '1. e4 e6 2. b3 d6 3. Bb2 e5 4. g3 Nf6 5. Bh3 Bxh3', '1. e4 Nf6 2. Nf3 Nxe4 3. Nc3 Nxc3 4. dxc3 e6 5. Bg5 Be7', '1. Nc3 c5 2. d3 g6 3. e4 Bg7 4. f4 Nc6 5. Nf3 e6', '1. d4 Nc6 2. e3 d5 3. Bd3 Bf5 4. Bd2 e6 5. Nf3 Bxd3', '1. e3 d5 2. b3 e5 3. Bb2 Nf6 4. g3 Nc6 5. Bg2 Bf5', '1. e4 e5 2. Nf3 Nc6 3. Bc4 Nf6 4. d4 d5 5. dxe5 Nxe4', '1. c4 d6 2. e4 Nf6 3. Nc3 e5 4. Nf3 Be6 5. d3 Be7', '1. d4 d5 2. c4 Bf5 3. Bf4 dxc4 4. e3 e6 5. Bxc4 Bd6', '1. e4 c5 2. Nf3 Nc6 3. Bb5 d6 4. c3 Bd7 5. d4 cxd4', '1. e4 e6 2. d4 d5 3. e5 c5 4. c3 Ne7 5. f4 Nbc6', '1. e4 c6 2. Nf3 d5 3. exd5 cxd5 4. d4 Nc6 5. Nc3 Bf5', '1. d4 d6 2. e4 Nd7 3. Bb5 c6 4. Bc4 e5 5. d5 Ngf6', '1. e4 c5 2. Nf3 g6 3. Bc4 Bg7 4. O-O e6 5. d4 Ne7', '1. d4 e5 2. c4 exd4 3. Qxd4 Nc6 4. Qd1 d6 5. Nc3 Nf6', '1. e4 d5 2. e5 d4 3. d3 Qd5 4. Nf3 h6 5. c3 dxc3', '1. e4 c5 2. c3 g6 3. d4 cxd4 4. cxd4 Bg7 5. Nf3 e6', '1. e4 Nc6 2. d4 e5 3. d5 Nce7 4. Nc3 Ng6 5. Bd3 Bb4', '1. e4 e5 2. d4 exd4 3. Qxd4 Nc6 4. Qe3 Nf6 5. Nc3 a6', '1. e4 c5 2. Nf3 d6 3. Nc3 Nc6 4. d4 cxd4 5. Nxd4 g6', '1. d4 b6 2. e3 Bb7 3. Bd3 a6 4. Nf3 g6 5. e4 c6', '1. b3 d5 2. Bb2 e5 3. a4 f5 4. a5 c5 5. a6 bxa6', '1. e4 e5 2. Nf3 d6 3. Bc4 Nf6 4. Nc3 h6 5. d4 Be7', '1. d4 d5 2. c4 e6 3. c5 c6 4. b4 a5 5. a3 axb4', '1. e4 c5 2. f4 d5 3. exd5 Qxd5 4. Nc3 Qd8 5. d3 e6', '1. e4 c5 2. Nf3 e6 3. Be2 d5 4. exd5 exd5 5. d4 Nf6', '1. e4 e5 2. Nf3 Nc6 3. Bc4 Nf6 4. d3 d6 5. Bg5 Be7', '1. e4 d5 2. e5 e6 3. d4 Ne7 4. Nf3 Ng6 5. Bb5+ c6', '1. e4 c5 2. d4 cxd4 3. c3 dxc3 4. Nxc3 d6 5. Nf3 g6', '1. d4 b6 2. e4 Bb7 3. c4 a6 4. f4 e6 5. d5 exd5', '1. Nf3 b6 2. d4 Bb7 3. c4 g6 4. Nc3 Bg7 5. e4 e6', '1. e4 g6 2. Nf3 e6 3. d4 Bg7 4. Bc4 Ne7 5. Nc3 O-O', '1. e4 e6 2. d4 d5 3. e5 c5 4. c3 Nc6 5. f4 Nge7', '1. e4 e5 2. Nf3 Nc6 3. Bc4 h6 4. d4 exd4 5. Nxd4 Bc5', '1. e4 e5 2. Nf3 Nf6 3. d4 d6 4. dxe5 dxe5 5. Bd3 Bc5', '1. d4 c6 2. c4 d5 3. Nc3 dxc4 4. Nf3 Nf6 5. Bg5 Bg4', '1. e4 c5 2. Nf3 d6 3. d4 Na6 4. Bxa6 bxa6 5. dxc5 Bb7', '1. d4 e6 2. Nf3 Be7 3. c4 c6 4. Nc3 d5 5. cxd5 cxd5', '1. e4 c5 2. d4 d6 3. dxc5 dxc5 4. Qxd8+ Kxd8 5. Be3 e5', '1. e4 c5 2. Nf3 e6 3. Be2 d5 4. d3 Nf6 5. e5 Nfd7', '1. e4 d5 2. e5 c5 3. g3 Nc6 4. Qe2 Nh6 5. d4 Bg4', '1. d4 b6 2. e4 Bb7 3. f4 a6 4. c4 b5 5. cxb5 axb5', '1. e4 e5 2. Nf3 Nc6 3. Bc4 Nf6 4. d3 Be7 5. Nc3 d6', '1. e4 e6 2. Nf3 d5 3. exd5 exd5 4. d4 Nf6 5. h3 Bd6', '1. Nf3 g6 2. d4 Bg7 3. c4 e6 4. Nc3 c6 5. e3 Ne7', '1. e4 e5 2. d4 d5 3. dxe5 dxe4 4. Qxd8+ Kxd8 5. Nc3 Nc6', '1. e4 e5 2. Nf3 d6 3. Bc4 h6 4. Nc3 c6 5. d3 b5', '1. e4 d5 2. e5 c5 3. Nf3 Nc6 4. Bb5 Bg4 5. Bxc6+ bxc6', '1. d4 c6 2. c4 d5 3. Nc3 e6 4. Nf3 Nf6 5. Bg5 Be7', '1. b3 g6 2. Bb2 Nf6 3. a3 Bg7 4. g4 O-O 5. g5 b6', '1. e4 e6 2. d4 Ne7 3. Nf3 Ng6 4. Bg5 Be7 5. Bxe7 Qxe7', '1. e4 e5 2. Nf3 Nc6 3. Nc3 Bc5 4. Bb5 Nd4 5. Nxe5 Qg5', '1. e4 d5 2. exd5 Qxd5 3. Nc3 Qa5 4. d3 c6 5. Bd2 Qb6', '1. c4 Nf6 2. f3 g6 3. Nc3 Bg7 4. e3 d6 5. d4 O-O', '1. e4 e5 2. Nf3 Nc6 3. Bb5 Nf6 4. O-O Nxe4 5. Re1 d5', '1. b3 g6 2. Bb2 Nf6 3. g4 b6 4. g5', '1. b3 c5 2. Bb2 d6 3. d3 f6 4. Nd2 e5 5. c4 Bd7', '1. d4 d5 2. c4 Nf6 3. Nc3 e6 4. a3 Be7 5. c5 O-O', '1. e4 g6 2. Nf3 Bg7 3. c3 d6 4. d4 Nf6 5. Bd3 O-O']\n"
          ]
        }
      ],
      "source": [
        "from collections import Counter\n",
        "print(Counter(win_lose))\n",
        "print(\"\\n\")\n",
        "print(data[0:100])"
      ]
    },
    {
      "cell_type": "code",
      "execution_count": null,
      "metadata": {
        "id": "9BSkDqN_3dql"
      },
      "outputs": [],
      "source": [
        "import numpy as np\n",
        "import pandas as pd\n",
        "\n",
        "\n",
        "win_lose = pd.DataFrame(test_win_lose)\n",
        "data = pd.DataFrame(test_data)\n",
        "\n",
        " \n",
        "concacted = pd.concat([data,win_lose],axis= 1)\n",
        "concacted.columns = ['data','win_lose']\n",
        "concacted = concacted.dropna()\n"
      ]
    },
    {
      "cell_type": "code",
      "execution_count": null,
      "metadata": {
        "id": "wxfFUVFs3dql"
      },
      "outputs": [],
      "source": [
        "temp_data = concacted[\"data\"]\n",
        "cols = [i  for i in range(0,len(temp_data)) if temp_data[i].find(\"eval\") != -1]\n",
        "concacted = concacted.drop(cols,axis=0,)\n"
      ]
    },
    {
      "cell_type": "code",
      "execution_count": null,
      "metadata": {
        "id": "2kYifFKT3dql"
      },
      "outputs": [],
      "source": [
        "# concacted.to_csv(\"LSTM_concacted.csv\")"
      ]
    },
    {
      "cell_type": "code",
      "execution_count": null,
      "metadata": {
        "id": "yd0f4_NI3dqm"
      },
      "outputs": [],
      "source": [
        "# # print(cols)\n",
        "# print(type(pd.DataFrame(concacted[\"data\"])))\n",
        "# pd.DataFrame(concacted[\"opening\"]).to_csv(\"opening.csv\", index= None,header=None)\n",
        "# pd.DataFrame(concacted[\"win_lose\"]).to_csv(\"win_lose.csv\", index= None,header=None)\n",
        "# pd.DataFrame(concacted[\"data\"]).to_csv(\"data.csv\", index= None,header=None)"
      ]
    },
    {
      "cell_type": "code",
      "execution_count": null,
      "metadata": {
        "id": "Sw0Cs0tq3dqm"
      },
      "outputs": [],
      "source": [
        "data = np.array(concacted[\"data\"])\n",
        "win_lose = np.array(concacted[\"win_lose\"])"
      ]
    },
    {
      "cell_type": "markdown",
      "metadata": {
        "id": "rPk177Gp3dqn"
      },
      "source": [
        "<font color = steel size = 5>Transform the data and labels to tensor so that they can be filled in CNN</font>"
      ]
    },
    {
      "cell_type": "code",
      "execution_count": null,
      "metadata": {
        "id": "XG5ICKxZ3dqn",
        "outputId": "dc399a82-6cf5-4e98-ae6e-61862d200c2b"
      },
      "outputs": [
        {
          "name": "stdout",
          "output_type": "stream",
          "text": [
            "59\n"
          ]
        }
      ],
      "source": [
        "max_len =len(max(data,key=len))\n",
        "\n",
        "print(max_len)\n",
        "\n",
        "embeded_movements = [x + \" \"* (max_len-len(x)) for x in data]\n",
        "\n",
        "for x in embeded_movements:\n",
        "    if len(x) != max_len:\n",
        "        print(\"warning\")\n",
        "\n",
        "embeded_movements = np.array(embeded_movements).reshape(-1,1)"
      ]
    },
    {
      "cell_type": "code",
      "execution_count": null,
      "metadata": {
        "id": "03L9Kz7Z3dqo"
      },
      "outputs": [],
      "source": [
        "# from sentence_transformers import SentenceTransformer\n",
        "\n",
        "# model = SentenceTransformer('paraphrase-MiniLM-L6-v2')\n",
        "\n",
        "# max_len = max(data,key=len)\n",
        "\n",
        "# embeded_movements = model.encode(data)\n"
      ]
    },
    {
      "cell_type": "code",
      "execution_count": null,
      "metadata": {
        "id": "uY_v0opX3dqo",
        "outputId": "00325d45-f4b5-4e2f-cfb9-24c9146b6658"
      },
      "outputs": [
        {
          "name": "stdout",
          "output_type": "stream",
          "text": [
            "58571\n",
            "58571\n"
          ]
        }
      ],
      "source": [
        "from collections import Counter\n",
        "import numpy as np\n",
        "\n",
        "def resultToIndex(o):\n",
        "    return all_result.index(o)\n",
        "\n",
        "all_result = list(Counter(win_lose).keys())\n",
        "\n",
        "result_labels = []\n",
        "\n",
        "for o in win_lose:\n",
        "    result_labels.append(resultToIndex(o))\n",
        "\n",
        "\n",
        "result_labels = np.array(result_labels)\n",
        "print(len(embeded_movements))\n",
        "print(len(result_labels))"
      ]
    },
    {
      "cell_type": "code",
      "execution_count": null,
      "metadata": {
        "id": "U7EXDBJs3dqp"
      },
      "outputs": [],
      "source": [
        "from  imblearn.over_sampling import RandomOverSampler\n",
        "\n",
        "model_RandomOverSampler=RandomOverSampler()\n",
        "\n",
        "embeded_movements,result_labels =  model_RandomOverSampler.fit_resample(embeded_movements,result_labels) "
      ]
    },
    {
      "cell_type": "code",
      "execution_count": null,
      "metadata": {
        "id": "zaZI6Heu3dqq",
        "outputId": "ac81add6-060c-44f0-e096-749de1bd0236"
      },
      "outputs": [
        {
          "name": "stdout",
          "output_type": "stream",
          "text": [
            "87954\n",
            "87954\n",
            "(87954, 1)\n",
            "(87954,)\n"
          ]
        }
      ],
      "source": [
        "print(len(embeded_movements))\n",
        "print(len(result_labels))\n",
        "print(embeded_movements.shape)\n",
        "print(result_labels.shape)"
      ]
    },
    {
      "cell_type": "code",
      "execution_count": null,
      "metadata": {
        "id": "rBOtaV8-3dqq"
      },
      "outputs": [],
      "source": [
        "# for x in embeded_movements:\n",
        "#     print(len(x[0]))"
      ]
    },
    {
      "cell_type": "code",
      "execution_count": null,
      "metadata": {
        "id": "e7rxkKvz3dqr"
      },
      "outputs": [],
      "source": [
        "import string\n",
        "\n",
        "all_letters = string.ascii_letters + \" .,;'\"    \n",
        "\n",
        "\n",
        "def letterToIndex(letter):\n",
        "    return all_letters.find(letter)\n",
        "\n",
        "\n",
        "def lineToTensor(line):\n",
        "    tensor = torch.zeros(len(line), len(line[0][0]))\n",
        "    for i,l in enumerate(line):\n",
        "        for j in range(len(l[0])):\n",
        "            tensor[i][j] = letterToIndex(l[0][j])\n",
        "    return tensor\n",
        "\n",
        "\n",
        "embeded_movements = lineToTensor(embeded_movements)\n",
        "\n"
      ]
    },
    {
      "cell_type": "code",
      "execution_count": null,
      "metadata": {
        "id": "JQ5EjCH83dqr",
        "outputId": "e367cd89-ea18-471d-e79a-f9d07b4b418a"
      },
      "outputs": [
        {
          "name": "stdout",
          "output_type": "stream",
          "text": [
            "torch.Size([87954, 59])\n"
          ]
        }
      ],
      "source": [
        "print(embeded_movements.shape)"
      ]
    },
    {
      "cell_type": "code",
      "execution_count": null,
      "metadata": {
        "id": "QI7w1cDw3dqr"
      },
      "outputs": [],
      "source": [
        "import math\n",
        "import torch\n",
        "import random\n",
        "\n",
        "shuffle_index = [i for i in range(len(embeded_movements))]\n",
        "\n",
        "random.shuffle(shuffle_index)\n",
        "\n",
        "\n",
        "# random.shuffle(shuffle_index)\n",
        "embeded_movements = embeded_movements[shuffle_index]\n",
        "result_labels = result_labels[shuffle_index]\n",
        "# win_lose = win_lose[shuffle_index]\n",
        "\n",
        "\n",
        "test_ratio = 0.2\n",
        "sep_index_test = int(len(embeded_movements) * (1- test_ratio))\n",
        "\n",
        "embeded_movements_test = embeded_movements[sep_index_test:]\n",
        "result_labels_test = result_labels[sep_index_test:]\n",
        "\n",
        "\n",
        "embeded_movements_sep = embeded_movements[:sep_index_test]\n",
        "result_labels_sep = result_labels[:sep_index_test]\n",
        "\n",
        "\n",
        "train_ratio = 0.85\n",
        "\n",
        "sep_index = int(len(embeded_movements_sep) * train_ratio)\n",
        "\n",
        "\n",
        "embeded_movements_train  = embeded_movements_sep[:sep_index]\n",
        "result_labels_train = result_labels_sep[:sep_index]\n",
        "\n",
        "embeded_movements_valid  = embeded_movements_sep[sep_index:]\n",
        "result_labels_valid = result_labels_sep[sep_index:]\n"
      ]
    },
    {
      "cell_type": "code",
      "execution_count": null,
      "metadata": {
        "id": "dDpZw4bL3dqs"
      },
      "outputs": [],
      "source": [
        "# def reShape(data, label,n_steps = 40,step =40):\n",
        "#     segments = []\n",
        "#     labels = []\n",
        "#     for i in range(0, len(data) - n_steps, step):\n",
        "#         data_s = data[i: i + n_steps]\n",
        "#         label_s =label[i: i + n_steps]\n",
        "#         counts = np.bincount(label_s)\n",
        "#         segments.append(data_s)\n",
        "#         labels.append(np.argmax(counts))\n",
        "\n",
        "#     return segments,labels\n",
        "\n",
        "\n",
        "# embeded_movements_train, result_labels_train = reShape(embeded_movements_train,result_labels_train)\n",
        "\n",
        "# embeded_movements_valid, result_labels_valid = reShape(embeded_movements_valid,result_labels_valid)\n",
        "\n",
        "\n",
        "# embeded_movements_train = np.array(embeded_movements_train)\n",
        "# result_labels_train = np.array(result_labels_train)\n",
        "\n",
        "# embeded_movements_valid = np.array(embeded_movements_valid)\n",
        "# result_labels_valid = np.array(result_labels_valid)\n"
      ]
    },
    {
      "cell_type": "code",
      "execution_count": null,
      "metadata": {
        "id": "wxW8ijb93dqs",
        "outputId": "b8131874-d197-4406-d846-ab2668eb385d"
      },
      "outputs": [
        {
          "name": "stdout",
          "output_type": "stream",
          "text": [
            "Counter({2: 19956, 1: 19943, 0: 19909})\n",
            "Counter({2: 3548, 0: 3524, 1: 3483})\n",
            "Counter({1: 5892, 0: 5885, 2: 5814})\n"
          ]
        }
      ],
      "source": [
        "print(Counter(result_labels_train.tolist()))\n",
        "print(Counter(result_labels_valid.tolist()))\n",
        "print(Counter(result_labels_test.tolist()))"
      ]
    },
    {
      "cell_type": "code",
      "execution_count": null,
      "metadata": {
        "id": "nIyVRRbM3dqt"
      },
      "outputs": [],
      "source": [
        "\n",
        "result_labels_train= torch.from_numpy(np.array(result_labels_train)).long()\n",
        "\n",
        "result_labels_valid= torch.from_numpy(np.array(result_labels_valid)).long()\n",
        "\n",
        "\n",
        "batch_num = 200\n",
        "train_batch_size =len(embeded_movements_train)/batch_num\n",
        "valid_batch_size = len(embeded_movements_valid)/batch_num\n",
        "test_batch_size = len(embeded_movements_test)/batch_num\n",
        "\n",
        "Train_data_batch = {}\n",
        "Train_label_batch = {}\n",
        "for i in range (0,batch_num):\n",
        "  Train_data_batch[i] = embeded_movements_train[math.floor(i*train_batch_size):math.floor((i+1)*train_batch_size)].cuda()\n",
        "  Train_label_batch[i] = result_labels_train[math.floor(i*train_batch_size):math.floor((i+1)*train_batch_size)].cuda()\n",
        "  # print(len(Train_data_batch[i]))\n",
        "  # print(len(Train_label_batch[i]))\n",
        "  # print(Counter(Train_label_batch[i]))\n",
        "\n",
        "Valid_data_batch = {}\n",
        "Valid_label_batch = {}\n",
        "for i in range (0,batch_num):\n",
        "  Valid_data_batch[i] = embeded_movements_valid[math.floor(i*valid_batch_size):math.floor((i+1)*valid_batch_size)].cuda()\n",
        "  Valid_label_batch[i] = result_labels_valid[math.floor(i*valid_batch_size):math.floor((i+1)*valid_batch_size)].cuda()\n",
        "\n",
        "\n",
        "Test_data_batch = {}\n",
        "for i in range (0,batch_num):\n",
        "  Test_data_batch[i] = embeded_movements_test[math.floor(i*test_batch_size):math.floor((i+1)*test_batch_size)].cuda()"
      ]
    },
    {
      "cell_type": "code",
      "execution_count": null,
      "metadata": {
        "id": "9KDwEtu23dqu"
      },
      "outputs": [],
      "source": [
        "# for i in range(len(Train_label_batch)):\n",
        "#     print(Counter(Train_label_batch[i].tolist()))\n",
        "# for i in range(len(Valid_label_batch)):\n",
        "#     print(Counter(Valid_label_batch[i].tolist()))"
      ]
    },
    {
      "cell_type": "code",
      "execution_count": null,
      "metadata": {
        "id": "yBDeVOsx3dqu",
        "outputId": "654a5e8f-c2d6-4f5f-ccec-9dfea6a4305e"
      },
      "outputs": [
        {
          "name": "stdout",
          "output_type": "stream",
          "text": [
            "torch.Size([87, 59])\n"
          ]
        }
      ],
      "source": [
        "print(Test_data_batch[0].shape)"
      ]
    },
    {
      "cell_type": "markdown",
      "metadata": {
        "id": "Fv3PcwbK3dqu"
      },
      "source": [
        "<font color = steel size = 5>Training</font>"
      ]
    },
    {
      "cell_type": "code",
      "execution_count": null,
      "metadata": {
        "id": "dWNuRYG03dqv"
      },
      "outputs": [],
      "source": [
        "import torch.nn as nn\n",
        "\n",
        "class LSTM_RNN(nn.Module):\n",
        "    def __init__(self, input_size, hidden_size, output_size,num_layers = 2):\n",
        "        super(LSTM_RNN, self).__init__()\n",
        "        self.input_size = input_size\n",
        "        self.hidden_size = hidden_size\n",
        "        self.output_size = output_size\n",
        "        self.num_layers = num_layers\n",
        "        self.cell = nn.LSTM(input_size = self.input_size, hidden_size = self.hidden_size, num_layers = self.num_layers,batch_first = True, bidirectional = False)\n",
        "        self.bn = nn.BatchNorm1d(self.output_size)\n",
        "        self.f = nn.Linear(self.hidden_size, self.output_size)\n",
        "        self.dropout = nn.Dropout(0.2)\n",
        "        self.a = nn.ReLU()\n",
        "        \n",
        "\n",
        "    def forward(self, input, hidden, cell):\n",
        "\n",
        "        output, (hidden,cell) = self.cell(input,(hidden,cell))\n",
        "        \n",
        "        output = self.f(output)\n",
        "\n",
        "        # output = self.bn(output)\n",
        "        output = self.a(output)\n",
        "\n",
        "        output = self.dropout(output)\n",
        "\n",
        "\n",
        "        return output, hidden, cell\n",
        "\n",
        "    def init_zeros(self, x,hidden_size = 0):\n",
        "        \n",
        "        if hidden_size == 0:\n",
        "            hidden_size = self.hidden_size\n",
        "\n",
        "        if x.ndim == 2:\n",
        "          return torch.zeros(self.num_layers,hidden_size).cuda()\n",
        "        else:\n",
        "          return torch.zeros(self.num_layers,x.size(0),hidden_size).cuda()"
      ]
    },
    {
      "cell_type": "code",
      "execution_count": null,
      "metadata": {
        "id": "WAU-d6el3dqv"
      },
      "outputs": [],
      "source": [
        "from sklearn.metrics import accuracy_score, plot_confusion_matrix, confusion_matrix, ConfusionMatrixDisplay,f1_score\n",
        "\n",
        "def train_LSTM(model, criterion,optimizer, epochs):\n",
        "\n",
        "\n",
        "    loss_index = []\n",
        "    train_losslist = []\n",
        "    valid_losslist = []\n",
        "\n",
        "    max_f1_score = -np.Inf # track change in validation loss\n",
        "    \n",
        "    for t in range(epochs):\n",
        "        ######################\n",
        "        # Training the model #\n",
        "        ######################\n",
        "        loss_training = 0\n",
        "        loss_validating = 0\n",
        "\n",
        "        model.train()\n",
        "        \n",
        "        for i in range (0,batch_num):\n",
        "\n",
        "            hidden = model.init_zeros(Train_data_batch[i])\n",
        "            cell =  model.init_zeros(Train_data_batch[i])\n",
        "            \n",
        "            \n",
        "           \n",
        "            # Forward pass: Computing predicted outputs\n",
        "            output, hidden, cell = model(Train_data_batch[i],hidden, cell)\n",
        "            \n",
        "            \n",
        "            # Calculating the batch loss\n",
        "            loss = criterion(output, Train_label_batch[i])\n",
        "            \n",
        "            # Clearing the gradients of all optimized variables\n",
        "            optimizer.zero_grad()\n",
        "\n",
        "            # Backward pass: compute gradient of loss with respect to parameters\n",
        "            loss.backward()\n",
        "            # Perform a single optimization step (parameter update)\n",
        "            optimizer.step()\n",
        "            \n",
        "            \n",
        "\n",
        "            # Update training loss\n",
        "            loss_training += loss.item()*(len(Train_data_batch[i]))\n",
        "        \n",
        "\n",
        "\n",
        "        ########################    \n",
        "        # Validating the model #\n",
        "        ########################\n",
        "        model.eval()\n",
        "\n",
        "        Y_test_pred_raw= []\n",
        "        for i in range (0,batch_num):\n",
        "\n",
        "            hidden = model.init_zeros(Valid_data_batch[i])\n",
        "            cell =  model.init_zeros(Valid_data_batch[i])\n",
        "            model.zero_grad()\n",
        "            output, hidden, cell = model(Valid_data_batch[i],hidden, cell)\n",
        "            loss = criterion(output, Valid_label_batch[i])\n",
        "\n",
        "            Y_test_pred_raw += predictLSTM(model,Test_data_batch[i])\n",
        "            # Update validating loss\n",
        "            loss_validating += loss.item()*(len(Valid_data_batch[i]))\n",
        "            \n",
        "\n",
        "        # Calculating average losses\n",
        "        train_loss = loss_training/len(embeded_movements_train)\n",
        "        valid_loss = loss_validating/len(embeded_movements_valid)\n",
        "\n",
        "\n",
        "        loss_index.append(t+1)\n",
        "        train_losslist.append(train_loss)\n",
        "        valid_losslist.append(valid_loss)\n",
        "\n",
        "        \n",
        "        # if t % 500 == 0:\n",
        "        print(\"[Epoch {t:5d} of {epochs}] Train loss: {train_loss:1.6f}, Validation Loss: {valid_loss:.6f}\".format(\n",
        "            t=t+1,epochs = epochs,train_loss = train_loss,valid_loss=valid_loss))\n",
        "\n",
        "\n",
        "        Y_test_prediction = Y_test_pred_raw\n",
        "\n",
        "        # print(Counter(result_labels_test))\n",
        "        # print(len(result_labels_test))\n",
        "        # print(len(Y_test_prediction))\n",
        "        # print(Y_test_prediction.shape)\n",
        "\n",
        "        test_f1_score = f1_score(result_labels_test,Y_test_prediction, average=\"macro\")\n",
        "        print('Validation f1 score: {:.6f} '.format(test_f1_score))\n",
        "        # Saving model if validation loss has decreased\n",
        "        if test_f1_score > max_f1_score:\n",
        "            \n",
        "            print('Validation f1 score increased ({:.6f} --> {:.6f}).  Saving model ...'.format(\n",
        "                max_f1_score,test_f1_score))\n",
        "            torch.save(model.state_dict(), 'model_cifar.pt')\n",
        "            max_f1_score = test_f1_score\n",
        "\n",
        "    return loss_index,train_losslist,valid_losslist\n",
        "\n",
        "\n",
        "def predictLSTM(model,data):\n",
        "    hidden = model.init_zeros(data)\n",
        "    cell =  model.init_zeros(data)\n",
        "    model.zero_grad()\n",
        "    pred,hidden,cell = model(data,hidden,cell)\n",
        "    pred =pred.cpu().detach().numpy()\n",
        "    pred = np.argmax(pred,axis=1)\n",
        "    return pred.tolist()"
      ]
    },
    {
      "cell_type": "code",
      "execution_count": null,
      "metadata": {
        "id": "xJzDGtmt3dqw",
        "outputId": "535a6e6d-969e-473a-c315-02fcf8d93714"
      },
      "outputs": [
        {
          "name": "stdout",
          "output_type": "stream",
          "text": [
            "LSTM_RNN(\n",
            "  (cell): LSTM(59, 96, num_layers=2, batch_first=True)\n",
            "  (bn): BatchNorm1d(3, eps=1e-05, momentum=0.1, affine=True, track_running_stats=True)\n",
            "  (f): Linear(in_features=96, out_features=3, bias=True)\n",
            "  (dropout): Dropout(p=0.2, inplace=False)\n",
            "  (a): ReLU()\n",
            ")\n"
          ]
        }
      ],
      "source": [
        "model = LSTM_RNN(59, 96, 3).to('cuda')\n",
        "criterion = nn.CrossEntropyLoss()\n",
        "optimizer = torch.optim.Adam(model.parameters(),lr=0.0001, weight_decay=0)\n",
        "epochs = 50\n",
        "\n",
        "print(model)"
      ]
    },
    {
      "cell_type": "code",
      "execution_count": null,
      "metadata": {
        "id": "oh4EhlNo3dqw",
        "outputId": "d05283af-1943-4c5e-9a06-35404c9ef13a"
      },
      "outputs": [
        {
          "name": "stdout",
          "output_type": "stream",
          "text": [
            "[Epoch     1 of 50] Train loss: 1.098517, Validation Loss: 1.097886\n",
            "Validation f1 score: 0.298877 \n",
            "Validation f1 score increased (-inf --> 0.298877).  Saving model ...\n",
            "[Epoch     2 of 50] Train loss: 1.097443, Validation Loss: 1.096952\n",
            "Validation f1 score: 0.264846 \n",
            "[Epoch     3 of 50] Train loss: 1.096401, Validation Loss: 1.095674\n",
            "Validation f1 score: 0.304852 \n",
            "Validation f1 score increased (0.298877 --> 0.304852).  Saving model ...\n",
            "[Epoch     4 of 50] Train loss: 1.094726, Validation Loss: 1.094256\n",
            "Validation f1 score: 0.299998 \n",
            "[Epoch     5 of 50] Train loss: 1.091537, Validation Loss: 1.090651\n",
            "Validation f1 score: 0.359660 \n",
            "Validation f1 score increased (0.304852 --> 0.359660).  Saving model ...\n",
            "[Epoch     6 of 50] Train loss: 1.086155, Validation Loss: 1.085920\n",
            "Validation f1 score: 0.379232 \n",
            "Validation f1 score increased (0.359660 --> 0.379232).  Saving model ...\n",
            "[Epoch     7 of 50] Train loss: 1.079662, Validation Loss: 1.080551\n",
            "Validation f1 score: 0.385359 \n",
            "Validation f1 score increased (0.379232 --> 0.385359).  Saving model ...\n",
            "[Epoch     8 of 50] Train loss: 1.073932, Validation Loss: 1.075738\n",
            "Validation f1 score: 0.391467 \n",
            "Validation f1 score increased (0.385359 --> 0.391467).  Saving model ...\n",
            "[Epoch     9 of 50] Train loss: 1.068308, Validation Loss: 1.071062\n",
            "Validation f1 score: 0.404176 \n",
            "Validation f1 score increased (0.391467 --> 0.404176).  Saving model ...\n",
            "[Epoch    10 of 50] Train loss: 1.062445, Validation Loss: 1.067026\n",
            "Validation f1 score: 0.405325 \n",
            "Validation f1 score increased (0.404176 --> 0.405325).  Saving model ...\n",
            "[Epoch    11 of 50] Train loss: 1.057801, Validation Loss: 1.064448\n",
            "Validation f1 score: 0.410765 \n",
            "Validation f1 score increased (0.405325 --> 0.410765).  Saving model ...\n",
            "[Epoch    12 of 50] Train loss: 1.051969, Validation Loss: 1.059549\n",
            "Validation f1 score: 0.421925 \n",
            "Validation f1 score increased (0.410765 --> 0.421925).  Saving model ...\n",
            "[Epoch    13 of 50] Train loss: 1.048522, Validation Loss: 1.056463\n",
            "Validation f1 score: 0.418455 \n",
            "[Epoch    14 of 50] Train loss: 1.044728, Validation Loss: 1.053259\n",
            "Validation f1 score: 0.424408 \n",
            "Validation f1 score increased (0.421925 --> 0.424408).  Saving model ...\n",
            "[Epoch    15 of 50] Train loss: 1.037525, Validation Loss: 1.051041\n",
            "Validation f1 score: 0.427543 \n",
            "Validation f1 score increased (0.424408 --> 0.427543).  Saving model ...\n",
            "[Epoch    16 of 50] Train loss: 1.035041, Validation Loss: 1.048348\n",
            "Validation f1 score: 0.429215 \n",
            "Validation f1 score increased (0.427543 --> 0.429215).  Saving model ...\n",
            "[Epoch    17 of 50] Train loss: 1.032432, Validation Loss: 1.047136\n",
            "Validation f1 score: 0.428296 \n",
            "[Epoch    18 of 50] Train loss: 1.027882, Validation Loss: 1.043147\n",
            "Validation f1 score: 0.433002 \n",
            "Validation f1 score increased (0.429215 --> 0.433002).  Saving model ...\n",
            "[Epoch    19 of 50] Train loss: 1.025360, Validation Loss: 1.042755\n",
            "Validation f1 score: 0.429635 \n",
            "[Epoch    20 of 50] Train loss: 1.021650, Validation Loss: 1.039084\n",
            "Validation f1 score: 0.435780 \n",
            "Validation f1 score increased (0.433002 --> 0.435780).  Saving model ...\n",
            "[Epoch    21 of 50] Train loss: 1.018153, Validation Loss: 1.037017\n",
            "Validation f1 score: 0.436566 \n",
            "Validation f1 score increased (0.435780 --> 0.436566).  Saving model ...\n",
            "[Epoch    22 of 50] Train loss: 1.014296, Validation Loss: 1.035722\n",
            "Validation f1 score: 0.437917 \n",
            "Validation f1 score increased (0.436566 --> 0.437917).  Saving model ...\n",
            "[Epoch    23 of 50] Train loss: 1.012083, Validation Loss: 1.034516\n",
            "Validation f1 score: 0.440255 \n",
            "Validation f1 score increased (0.437917 --> 0.440255).  Saving model ...\n",
            "[Epoch    24 of 50] Train loss: 1.009305, Validation Loss: 1.032801\n",
            "Validation f1 score: 0.437893 \n",
            "[Epoch    25 of 50] Train loss: 1.006477, Validation Loss: 1.030383\n",
            "Validation f1 score: 0.438040 \n",
            "[Epoch    26 of 50] Train loss: 1.004580, Validation Loss: 1.030745\n",
            "Validation f1 score: 0.435239 \n",
            "[Epoch    27 of 50] Train loss: 1.002665, Validation Loss: 1.028309\n",
            "Validation f1 score: 0.440694 \n",
            "Validation f1 score increased (0.440255 --> 0.440694).  Saving model ...\n",
            "[Epoch    28 of 50] Train loss: 0.999513, Validation Loss: 1.026926\n",
            "Validation f1 score: 0.441328 \n",
            "Validation f1 score increased (0.440694 --> 0.441328).  Saving model ...\n",
            "[Epoch    29 of 50] Train loss: 0.995625, Validation Loss: 1.026508\n",
            "Validation f1 score: 0.439660 \n",
            "[Epoch    30 of 50] Train loss: 0.993276, Validation Loss: 1.025433\n",
            "Validation f1 score: 0.443822 \n",
            "Validation f1 score increased (0.441328 --> 0.443822).  Saving model ...\n",
            "[Epoch    31 of 50] Train loss: 0.991020, Validation Loss: 1.025306\n",
            "Validation f1 score: 0.443915 \n",
            "Validation f1 score increased (0.443822 --> 0.443915).  Saving model ...\n",
            "[Epoch    32 of 50] Train loss: 0.986236, Validation Loss: 1.024004\n",
            "Validation f1 score: 0.446799 \n",
            "Validation f1 score increased (0.443915 --> 0.446799).  Saving model ...\n",
            "[Epoch    33 of 50] Train loss: 0.986502, Validation Loss: 1.023559\n",
            "Validation f1 score: 0.446160 \n",
            "[Epoch    34 of 50] Train loss: 0.982489, Validation Loss: 1.023200\n",
            "Validation f1 score: 0.444574 \n",
            "[Epoch    35 of 50] Train loss: 0.983710, Validation Loss: 1.021948\n",
            "Validation f1 score: 0.446716 \n",
            "[Epoch    36 of 50] Train loss: 0.978409, Validation Loss: 1.021378\n",
            "Validation f1 score: 0.445780 \n",
            "[Epoch    37 of 50] Train loss: 0.978012, Validation Loss: 1.021131\n",
            "Validation f1 score: 0.447645 \n",
            "Validation f1 score increased (0.446799 --> 0.447645).  Saving model ...\n",
            "[Epoch    38 of 50] Train loss: 0.975580, Validation Loss: 1.020366\n",
            "Validation f1 score: 0.448107 \n",
            "Validation f1 score increased (0.447645 --> 0.448107).  Saving model ...\n",
            "[Epoch    39 of 50] Train loss: 0.973991, Validation Loss: 1.020926\n",
            "Validation f1 score: 0.449672 \n",
            "Validation f1 score increased (0.448107 --> 0.449672).  Saving model ...\n",
            "[Epoch    40 of 50] Train loss: 0.970973, Validation Loss: 1.018967\n",
            "Validation f1 score: 0.449138 \n",
            "[Epoch    41 of 50] Train loss: 0.969756, Validation Loss: 1.021517\n",
            "Validation f1 score: 0.447245 \n",
            "[Epoch    42 of 50] Train loss: 0.968113, Validation Loss: 1.018180\n",
            "Validation f1 score: 0.451120 \n",
            "Validation f1 score increased (0.449672 --> 0.451120).  Saving model ...\n",
            "[Epoch    43 of 50] Train loss: 0.964833, Validation Loss: 1.017867\n",
            "Validation f1 score: 0.450789 \n",
            "[Epoch    44 of 50] Train loss: 0.962338, Validation Loss: 1.017469\n",
            "Validation f1 score: 0.451052 \n",
            "[Epoch    45 of 50] Train loss: 0.960948, Validation Loss: 1.018981\n",
            "Validation f1 score: 0.451262 \n",
            "Validation f1 score increased (0.451120 --> 0.451262).  Saving model ...\n",
            "[Epoch    46 of 50] Train loss: 0.958425, Validation Loss: 1.018750\n",
            "Validation f1 score: 0.449178 \n",
            "[Epoch    47 of 50] Train loss: 0.955520, Validation Loss: 1.017852\n",
            "Validation f1 score: 0.454665 \n",
            "Validation f1 score increased (0.451262 --> 0.454665).  Saving model ...\n",
            "[Epoch    48 of 50] Train loss: 0.954994, Validation Loss: 1.018699\n",
            "Validation f1 score: 0.452239 \n",
            "[Epoch    49 of 50] Train loss: 0.951795, Validation Loss: 1.018450\n",
            "Validation f1 score: 0.455302 \n",
            "Validation f1 score increased (0.454665 --> 0.455302).  Saving model ...\n",
            "[Epoch    50 of 50] Train loss: 0.951856, Validation Loss: 1.018431\n",
            "Validation f1 score: 0.451792 \n"
          ]
        }
      ],
      "source": [
        "loss_index,train_losslist,valid_losslist = train_LSTM(model,criterion,optimizer,epochs)"
      ]
    },
    {
      "cell_type": "code",
      "execution_count": null,
      "metadata": {
        "id": "KUQebRbd3dqx",
        "outputId": "293315ce-1e37-4d4a-fa52-a7468abe0b99"
      },
      "outputs": [
        {
          "data": {
            "text/plain": [
              "<All keys matched successfully>"
            ]
          },
          "execution_count": 656,
          "metadata": {},
          "output_type": "execute_result"
        }
      ],
      "source": [
        "\n",
        "\n",
        "model.load_state_dict(torch.load('model_cifar.pt'))\n",
        "\n"
      ]
    },
    {
      "cell_type": "code",
      "execution_count": null,
      "metadata": {
        "id": "0bZsDD473dqx",
        "outputId": "7f620d4a-8b36-4ff1-8d2d-6b88a79a1b74"
      },
      "outputs": [
        {
          "name": "stdout",
          "output_type": "stream",
          "text": [
            "Counter({2: 6865, 0: 5368, 1: 5358})\n",
            "Counter({1: 5892, 0: 5885, 2: 5814})\n",
            "Test Accuracy = 0.46035\n",
            "F1 Score = 0.4553\n"
          ]
        }
      ],
      "source": [
        "from sklearn.metrics import accuracy_score, plot_confusion_matrix, confusion_matrix, ConfusionMatrixDisplay,f1_score\n",
        "\n",
        "Yhat_test = []\n",
        "# print(clf.predict(X_Valid_batch[0]))\n",
        "for i in range (0,batch_num):\n",
        "    # print(clf.predict(X_Valid_batch[0]))\n",
        "    prediction = predictLSTM(model,Test_data_batch[i])\n",
        "    Yhat_test += prediction\n",
        "\n",
        "# dasfads = opening_labels_test.values().tolist()\n",
        "# print(Counter(dasfads))\n",
        "print(Counter(Yhat_test))\n",
        "print(Counter(result_labels_test))\n",
        "\n",
        "\n",
        "print('Test Accuracy = {score:.5}'.format(score=accuracy_score(result_labels_test,Yhat_test)))\n",
        "print('F1 Score = {f1score:.5}'.format(f1score=f1_score(result_labels_test,Yhat_test, average=\"macro\")))"
      ]
    },
    {
      "cell_type": "code",
      "execution_count": null,
      "metadata": {
        "id": "EGhp6SE23dqx",
        "outputId": "53d1b615-5c69-4692-95e4-9254800e3587"
      },
      "outputs": [
        {
          "data": {
            "text/plain": [
              "<sklearn.metrics._plot.confusion_matrix.ConfusionMatrixDisplay at 0x1aa5546faf0>"
            ]
          },
          "execution_count": 658,
          "metadata": {},
          "output_type": "execute_result"
        },
        {
          "data": {
            "image/png": "[encoded data removed]",
            "text/plain": [
              "<Figure size 1440x360 with 2 Axes>"
            ]
          },
          "metadata": {
            "needs_background": "light"
          },
          "output_type": "display_data"
        }
      ],
      "source": [
        "import matplotlib.pyplot as plt\n",
        "\n",
        "# Plotting confusion matrix\n",
        "cm = confusion_matrix(result_labels_test,Yhat_test,normalize='true')\n",
        "disp = ConfusionMatrixDisplay(confusion_matrix=cm,display_labels=all_result)\n",
        "fig, ax = plt.subplots(figsize=(20,5))\n",
        "disp.plot(ax = ax)"
      ]
    },
    {
      "cell_type": "code",
      "execution_count": null,
      "metadata": {
        "id": "JwcXAJFR3dqx",
        "outputId": "0a44c48d-2489-4489-a43f-d4dd078a1fab"
      },
      "outputs": [
        {
          "data": {
            "image/png": "[encoded data removed]",
            "text/plain": [
              "<Figure size 432x288 with 1 Axes>"
            ]
          },
          "metadata": {
            "needs_background": "light"
          },
          "output_type": "display_data"
        }
      ],
      "source": [
        "plt.plot(loss_index, train_losslist,loss_index, valid_losslist)\n",
        "plt.xlabel(\"Index\")\n",
        "plt.ylabel(\"Loss\")\n",
        "plt.legend([\"Training\",\"Validating\"])\n",
        "plt.title(\"Loss Curve\")\n",
        "plt.show()"
      ]
    }
  ],
  "metadata": {
    "interpreter": {
      "hash": "a044d164bcef4f3ca38495a6358de4e69616450145c1cb10b21046e7e6537d1b"
    },
    "kernelspec": {
      "display_name": "Python 3.10.3 64-bit",
      "language": "python",
      "name": "python3"
    },
    "language_info": {
      "codemirror_mode": {
        "name": "ipython",
        "version": 3
      },
      "file_extension": ".py",
      "mimetype": "text/x-python",
      "name": "python",
      "nbconvert_exporter": "python",
      "pygments_lexer": "ipython3",
      "version": "3.10.3"
    },
    "orig_nbformat": 4,
    "colab": {
      "name": "chessgame-LSTM.ipynb",
      "provenance": [],
      "collapsed_sections": []
    }
  },
  "nbformat": 4,
  "nbformat_minor": 0
}